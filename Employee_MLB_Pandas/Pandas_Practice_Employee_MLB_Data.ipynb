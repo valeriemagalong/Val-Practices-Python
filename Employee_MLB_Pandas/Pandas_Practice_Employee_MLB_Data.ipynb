{
 "cells": [
  {
   "cell_type": "markdown",
   "id": "10b66575-b1d2-4f61-9d45-98a69e8b6114",
   "metadata": {},
   "source": [
    "# Valerie Magalong - Pandas, Datasets, & DataFrames Challenge"
   ]
  },
  {
   "cell_type": "markdown",
   "id": "4464902c-8684-4662-bb95-91537717b3cd",
   "metadata": {},
   "source": [
    "## Tuesday, July 25, 2023"
   ]
  },
  {
   "cell_type": "markdown",
   "id": "7386016d-101f-4003-9e49-27c3812ca221",
   "metadata": {},
   "source": [
    "### Part One"
   ]
  },
  {
   "cell_type": "markdown",
   "id": "c0c85856-9b09-4a8e-8b36-bd40071ca3de",
   "metadata": {},
   "source": [
    "1. Import pandas as “pd”."
   ]
  },
  {
   "cell_type": "code",
   "execution_count": 1,
   "id": "09d9f1bd-c0ea-4c70-9b0c-07d2ba814c64",
   "metadata": {
    "is_executing": true
   },
   "outputs": [],
   "source": [
    "import pandas as pd"
   ]
  },
  {
   "cell_type": "markdown",
   "id": "d415eb7b-7d86-464c-9fc9-1ec41f5cf81e",
   "metadata": {},
   "source": [
    "2. Create three lists with five elements each. The first list should contain employees' first names, the second their last names, and the third should list their ages. You can make up this data."
   ]
  },
  {
   "cell_type": "code",
   "execution_count": null,
   "id": "18f318de-8c80-41aa-8cf8-357ff8a1a456",
   "metadata": {},
   "outputs": [],
   "source": []
  },
  {
   "cell_type": "markdown",
   "id": "0fd42d13-451c-49c4-b496-da5b40035baf",
   "metadata": {},
   "source": [
    "3. Create a data dictionary from the three lists."
   ]
  },
  {
   "cell_type": "code",
   "execution_count": null,
   "id": "489500bd-b994-44cb-a4cf-9a3af6a0d9bc",
   "metadata": {},
   "outputs": [],
   "source": []
  },
  {
   "cell_type": "markdown",
   "id": "c3d8351a-3c8f-4691-8573-35e9de629afc",
   "metadata": {},
   "source": [
    "4. Create a pandas Series from the employee age list."
   ]
  },
  {
   "cell_type": "code",
   "execution_count": null,
   "id": "b483f2c6-bf18-41a5-b76c-3dbe2edd4a46",
   "metadata": {},
   "outputs": [],
   "source": []
  },
  {
   "cell_type": "markdown",
   "id": "9b5eef6e-070f-4cd8-8af0-95c0bbaf4f3c",
   "metadata": {},
   "source": [
    "5. Determine the average employee age."
   ]
  },
  {
   "cell_type": "code",
   "execution_count": null,
   "id": "2fd9cd48-c516-437f-8895-15047020609d",
   "metadata": {},
   "outputs": [],
   "source": []
  },
  {
   "cell_type": "markdown",
   "id": "c183a361-1e4e-4e2b-815a-55aaf0f32773",
   "metadata": {},
   "source": [
    "6. Write the Series to a CSV file."
   ]
  },
  {
   "cell_type": "code",
   "execution_count": null,
   "id": "d8fa3f9c-a7a9-4613-84ec-3082cc0da8aa",
   "metadata": {},
   "outputs": [],
   "source": []
  },
  {
   "cell_type": "markdown",
   "id": "97f29bb6-9301-489a-a7c9-f6d60a6fec6b",
   "metadata": {},
   "source": [
    "### Part Two"
   ]
  },
  {
   "cell_type": "markdown",
   "id": "4625bd59-6c94-4246-93d4-9f56c300dea9",
   "metadata": {},
   "source": [
    "Import `21st century MLB Batting.csv` into Python as a data frame."
   ]
  },
  {
   "cell_type": "code",
   "execution_count": null,
   "id": "d97e668f-23de-45e7-a76e-0be9bb0cf502",
   "metadata": {},
   "outputs": [],
   "source": []
  },
  {
   "cell_type": "markdown",
   "id": "30ee2fb9-29a2-424f-af83-80a21937daee",
   "metadata": {},
   "source": [
    "Print the first five items in the data frame."
   ]
  },
  {
   "cell_type": "code",
   "execution_count": null,
   "id": "db746c46-c4ae-4317-8b15-042f212862f3",
   "metadata": {},
   "outputs": [],
   "source": []
  },
  {
   "cell_type": "markdown",
   "id": "bb68f3ec-b623-4193-97ff-298c8a013515",
   "metadata": {},
   "source": [
    "Print the last six items in the data frame."
   ]
  },
  {
   "cell_type": "code",
   "execution_count": null,
   "id": "01e931ff-f921-482a-96f1-d3061cb7aeaf",
   "metadata": {},
   "outputs": [],
   "source": []
  },
  {
   "cell_type": "markdown",
   "id": "0bcadfa3-1cbb-41ee-8f4a-4ee55e51e46b",
   "metadata": {},
   "source": [
    "Determine the average of the HR column.\n"
   ]
  },
  {
   "cell_type": "code",
   "execution_count": null,
   "id": "4e894524-dcf2-40b6-b539-0e0fa0be6fba",
   "metadata": {},
   "outputs": [],
   "source": []
  },
  {
   "cell_type": "markdown",
   "id": "4601ce1c-f596-4429-8393-22526e2869af",
   "metadata": {},
   "source": [
    "Calculate the max of the `SO` column."
   ]
  },
  {
   "cell_type": "code",
   "execution_count": null,
   "id": "eeda1c4e-6831-42b9-9539-3bde1e258bef",
   "metadata": {},
   "outputs": [],
   "source": []
  },
  {
   "cell_type": "markdown",
   "id": "9258a309-cc08-452b-aa9b-f403e81e896e",
   "metadata": {},
   "source": [
    "Save the data frame as an Excel file."
   ]
  },
  {
   "cell_type": "code",
   "execution_count": null,
   "id": "d9293bb0-ead3-4485-b474-d16049e9db69",
   "metadata": {},
   "outputs": [],
   "source": []
  },
  {
   "cell_type": "markdown",
   "id": "86ab7916-e79c-47e0-af97-6f4b7f3ee748",
   "metadata": {},
   "source": [
    "Create a subset of the data frame for players with more than 40 HR."
   ]
  },
  {
   "cell_type": "code",
   "execution_count": null,
   "id": "8eb25182-17ac-426d-947d-2e2db4482f1e",
   "metadata": {},
   "outputs": [],
   "source": []
  },
  {
   "cell_type": "markdown",
   "id": "57d4f4e7-cb98-4c93-89a7-23e5b701524a",
   "metadata": {},
   "source": [
    "Save this new subset as a json file."
   ]
  },
  {
   "cell_type": "code",
   "execution_count": null,
   "id": "856db01b-7057-476b-a395-df392e7ccc6f",
   "metadata": {},
   "outputs": [],
   "source": []
  }
 ],
 "metadata": {
  "kernelspec": {
   "display_name": "Python 3 (ipykernel)",
   "language": "python",
   "name": "python3"
  },
  "language_info": {
   "codemirror_mode": {
    "name": "ipython",
    "version": 3
   },
   "file_extension": ".py",
   "mimetype": "text/x-python",
   "name": "python",
   "nbconvert_exporter": "python",
   "pygments_lexer": "ipython3",
   "version": "3.10.9"
  }
 },
 "nbformat": 4,
 "nbformat_minor": 5
}
