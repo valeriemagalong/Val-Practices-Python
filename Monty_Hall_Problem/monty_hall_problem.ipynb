{
 "cells": [
  {
   "cell_type": "markdown",
   "metadata": {
    "jupyter": {
     "outputs_hidden": false
    }
   },
   "source": [
    "# The Monty Hall Problem\n",
    "---\n",
    "### [Play with the data in Google Colab.](https://colab.research.google.com/github/valeriemagalong/Val-Practices-Python/blob/main/Monty_Hall_Problem/monty_hall_problem.ipynb)\n",
    "---"
   ]
  },
  {
   "cell_type": "markdown",
   "metadata": {
    "jupyter": {
     "outputs_hidden": false
    }
   },
   "source": [
    "<center>\n",
    "    <a href=\"https://www.youtube.com/watch?v=4Lb-6rxZxx0\">\n",
    "        <img src=\"https://img.youtube.com/vi/4Lb-6rxZxx0/hqdefault.jpg\" alt=\"Monty Hall Problem YouTube video\">\n",
    "    </a>\n",
    "</center>\n",
    "\n",
    "From [Wikipedia](https://en.wikipedia.org/wiki/Monty_Hall_problem):\n",
    "\n",
    "> The Monty Hall problem is a brain teaser, in the form of a probability puzzle, loosely based on the American television game show Let's Make a Deal and named after its original host, Monty Hall. The problem was originally posed (and solved) in a letter by Steve Selvin to the American Statistician in 1975. It became famous as a question from reader Craig F. Whitaker's letter quoted in Marilyn vos Savant's \"Ask Marilyn\" column in Parade magazine in 1990:\n",
    ">> *Suppose you're on a game show, and you're given the choice of three doors: Behind one door is a car; behind the others, goats. You pick a door, say No. 1, and the host, who knows what's behind the doors, opens another door, say No. 3, which has a goat. He then says to you, \"Do you want to pick door No. 2?\" Is it to your advantage to switch your choice?*\n",
    "\n",
    "> Savant's response was that the contestant should switch to the other door. Under the standard assumptions, the switching strategy has a 2/3 probability of winning the car, while the strategy of sticking with the initial choice has only a 1/3 probability.\n",
    "\n",
    "> When the player first makes their choice, there is a 2/3 chance that the car is behind one of the doors not chosen. This probability does not change after the host reveals a goat behind one of the unchosen doors. When the host provides information about the 2 unchosen doors (revealing that one of them does not have the car behind it), the 2/3 chance of the car being behind one of the unchosen doors rests on the unchosen and unrevealed door, as opposed to the 1/3 chance of the car being behind the door the contestant chose initially.\n",
    "\n",
    "> The given probabilities depend on specific assumptions about how the host and contestant choose their doors. A key insight is that, under these standard conditions, there is more information about doors 2 and 3 than was available at the beginning of the game when door 1 was chosen by the player: the host's action adds value to the door not eliminated, but not to the one chosen by the contestant originally. Another insight is that switching doors is a different action from choosing between the two remaining doors at random, as the former action uses the previous information and the latter does not. Other possible behaviors of the host than the one described can reveal different additional information, or none at all, and yield different probabilities."
   ]
  },
  {
   "cell_type": "code",
   "execution_count": 1,
   "metadata": {
    "ExecuteTime": {
     "end_time": "2023-07-24T23:54:59.402308Z",
     "start_time": "2023-07-24T23:54:59.319752Z"
    },
    "collapsed": false,
    "jupyter": {
     "outputs_hidden": false
    }
   },
   "outputs": [
    {
     "name": "stdout",
     "output_type": "stream",
     "text": [
      "Probability of winning by not switching: 0.326\n",
      "Probability of winning by switching: 0.674\n"
     ]
    }
   ],
   "source": [
    "import numpy as np\n",
    "\n",
    "num_simulations = 1000\n",
    "doors = ['Door One', 'Door Two', 'Door Three']\n",
    "switch_wins = 0\n",
    "no_switch_wins = 0\n",
    "\n",
    "for i in range(num_simulations):\n",
    "    winning_door = np.random.choice(doors)\n",
    "    contestants_first_choice = np.random.choice(doors)\n",
    "\n",
    "    if contestants_first_choice == winning_door:\n",
    "        no_switch_wins += 1  # contestant wins by not switching\n",
    "    else:\n",
    "        switch_wins += 1  # contestant wins by switching to the unchosen door where Monty hasn't revealed a goat\n",
    "\n",
    "print(f\"Probability of winning by not switching: {no_switch_wins / num_simulations}\")\n",
    "print(f\"Probability of winning by switching: {switch_wins / num_simulations}\")\n"
   ]
  }
 ],
 "metadata": {
  "kernelspec": {
   "display_name": "Python 3 (ipykernel)",
   "language": "python",
   "name": "python3"
  },
  "language_info": {
   "codemirror_mode": {
    "name": "ipython",
    "version": 3
   },
   "file_extension": ".py",
   "mimetype": "text/x-python",
   "name": "python",
   "nbconvert_exporter": "python",
   "pygments_lexer": "ipython3",
   "version": "3.10.9"
  }
 },
 "nbformat": 4,
 "nbformat_minor": 4
}
