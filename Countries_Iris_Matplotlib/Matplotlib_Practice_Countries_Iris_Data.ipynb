{
 "cells": [
  {
   "cell_type": "markdown",
   "id": "feb4d140-648b-4684-bf9f-6acecb61df2e",
   "metadata": {},
   "source": [
    "# Visualizing Data with Matplotlib\n",
    "## Countries of the World Data & Iris Flowers Data\n",
    "---"
   ]
  },
  {
   "cell_type": "code",
   "execution_count": 1,
   "id": "616e81d2-b760-4398-909e-098bc27207d2",
   "metadata": {},
   "outputs": [],
   "source": [
    "import numpy as np\n",
    "import matplotlib.pyplot as plt\n",
    "\n",
    "# Set default plot style\n",
    "plt.style.use('seaborn-v0_8-bright')\n",
    "\n",
    "# Customize specific plot elements\n",
    "custom_params = {\n",
    "    'font.family': 'Arial',\n",
    "    'axes.spines.right': False,\n",
    "    'axes.spines.top': False\n",
    "}\n",
    "\n",
    "plt.rcParams.update(custom_params)"
   ]
  },
  {
   "cell_type": "markdown",
   "id": "415c3022-eedb-4613-92ef-ac834ab1a8a9",
   "metadata": {},
   "source": [
    "### 1. Create a NumPy array of 500 points with a normal distribution, a mean of 100 and a standard deviation of 10."
   ]
  },
  {
   "cell_type": "code",
   "execution_count": 2,
   "id": "b7e9cf43-6efe-4f51-afb0-0981d8ece186",
   "metadata": {},
   "outputs": [
    {
     "data": {
      "text/plain": [
       "500"
      ]
     },
     "execution_count": 2,
     "metadata": {},
     "output_type": "execute_result"
    }
   ],
   "source": [
    "norm_dist_array = np.random.normal(100, 10, 500)\n",
    "\n",
    "# Confirm that norm_dist_array has 500 data points\n",
    "norm_dist_array.size"
   ]
  },
  {
   "cell_type": "markdown",
   "id": "3b60d1e8-1ed6-477f-ac7e-3fe450389aae",
   "metadata": {},
   "source": [
    "---\n",
    "### 2. Create a histogram using Matplotlib using the array."
   ]
  },
  {
   "cell_type": "code",
   "execution_count": 3,
   "id": "cec9a5ab-45b4-433f-ba38-ec73a8fc7802",
   "metadata": {},
   "outputs": [
    {
     "data": {
      "image/png": "[encoded data removed]",
      "text/plain": [
       "<Figure size 640x480 with 1 Axes>"
      ]
     },
     "metadata": {},
     "output_type": "display_data"
    }
   ],
   "source": [
    "# Declare new Axes object called norm_dist_histogram\n",
    "norm_dist_histogram = plt.axes()\n",
    "\n",
    "# Display norm_dist_array data as histogram and customize appearance\n",
    "norm_dist_histogram.hist(norm_dist_array, bins = 23, edgecolor = 'black')\n",
    "norm_dist_histogram.set(xlabel = 'Numbers', ylabel = 'Frequency', title = 'A Normal Distribution of 500 Random Numbers')\n",
    "\n",
    "plt.show()"
   ]
  },
  {
   "cell_type": "markdown",
   "id": "677702d5-6d76-4de8-af07-2be1da4e5923",
   "metadata": {},
   "source": [
    "---\n",
    "### 3. Read CountriesWorld.csv into a data frame."
   ]
  },
  {
   "cell_type": "code",
   "execution_count": null,
   "id": "d401b609-aa6d-4682-8f1d-b80a33a23069",
   "metadata": {},
   "outputs": [],
   "source": []
  },
  {
   "cell_type": "markdown",
   "id": "54e22067-b6ac-4c6d-a386-a3db658b4853",
   "metadata": {},
   "source": [
    "---\n",
    "### 4. Create a scatter plot of `GDP ($ per capita)` versus `Literacy`."
   ]
  },
  {
   "cell_type": "code",
   "execution_count": null,
   "id": "8f7ad6c9-4cf3-4b67-a1ac-b55c6b544c8a",
   "metadata": {},
   "outputs": [],
   "source": []
  },
  {
   "cell_type": "markdown",
   "id": "79c796c7-b7b9-410f-a23d-1dad443e2dad",
   "metadata": {},
   "source": [
    "---\n",
    "### 5. Read iris.json into a data frame."
   ]
  },
  {
   "cell_type": "code",
   "execution_count": null,
   "id": "7c311c61-5d47-4e5c-a7fb-977114c73441",
   "metadata": {},
   "outputs": [],
   "source": []
  },
  {
   "cell_type": "markdown",
   "id": "cc6ba489-ecc7-435d-b918-8d9940ca2c1d",
   "metadata": {},
   "source": [
    "---\n",
    "### 6. Create a pivot data frame that shows the average petal width per species."
   ]
  },
  {
   "cell_type": "code",
   "execution_count": null,
   "id": "a4f21159-7b95-44d2-b6a2-ae4794d36d22",
   "metadata": {},
   "outputs": [],
   "source": []
  },
  {
   "cell_type": "markdown",
   "id": "282be9e3-5d2d-49f9-841a-f6882b2e27c7",
   "metadata": {},
   "source": [
    "---\n",
    "### 7. Make a bar plot for the pivot table showing species versus average petal width."
   ]
  },
  {
   "cell_type": "code",
   "execution_count": null,
   "id": "1afa12e3-4078-4110-b4c5-3c37160ab463",
   "metadata": {},
   "outputs": [],
   "source": []
  },
  {
   "cell_type": "markdown",
   "id": "8c2556e9-16dc-4bad-8ec7-28bfe06b37a3",
   "metadata": {},
   "source": [
    "---"
   ]
  }
 ],
 "metadata": {
  "kernelspec": {
   "display_name": "Python 3 (ipykernel)",
   "language": "python",
   "name": "python3"
  },
  "language_info": {
   "codemirror_mode": {
    "name": "ipython",
    "version": 3
   },
   "file_extension": ".py",
   "mimetype": "text/x-python",
   "name": "python",
   "nbconvert_exporter": "python",
   "pygments_lexer": "ipython3",
   "version": "3.11.3"
  }
 },
 "nbformat": 4,
 "nbformat_minor": 5
}
