{
 "cells": [
  {
   "cell_type": "markdown",
   "id": "feb4d140-648b-4684-bf9f-6acecb61df2e",
   "metadata": {},
   "source": [
    "# Visualizing Data with Matplotlib\n",
    "## Countries of the World Data & Iris Flowers Data\n",
    "---"
   ]
  },
  {
   "cell_type": "code",
   "execution_count": 1,
   "id": "616e81d2-b760-4398-909e-098bc27207d2",
   "metadata": {},
   "outputs": [],
   "source": [
    "import numpy as np\n",
    "import pandas as pd\n",
    "import matplotlib.pyplot as plt\n",
    "\n",
    "# Set default plot style\n",
    "plt.style.use('seaborn-v0_8-bright')\n",
    "\n",
    "# Customize specific plot elements\n",
    "custom_params = {\n",
    "    'font.family': 'Arial',\n",
    "    'axes.spines.right': False,\n",
    "    'axes.spines.top': False,\n",
    "    'axes.titleweight': 'bold',\n",
    "    'axes.titlesize': 14\n",
    "}\n",
    "\n",
    "plt.rcParams.update(custom_params)"
   ]
  },
  {
   "cell_type": "markdown",
   "id": "415c3022-eedb-4613-92ef-ac834ab1a8a9",
   "metadata": {},
   "source": [
    "### 1. Create a NumPy array of 500 points with a normal distribution, a mean of 100 and a standard deviation of 10."
   ]
  },
  {
   "cell_type": "code",
   "execution_count": 2,
   "id": "b7e9cf43-6efe-4f51-afb0-0981d8ece186",
   "metadata": {},
   "outputs": [
    {
     "data": {
      "text/plain": [
       "500"
      ]
     },
     "execution_count": 2,
     "metadata": {},
     "output_type": "execute_result"
    }
   ],
   "source": [
    "norm_dist_array = np.random.normal(100, 10, 500)\n",
    "\n",
    "# Confirm that norm_dist_array has 500 data points\n",
    "norm_dist_array.size"
   ]
  },
  {
   "cell_type": "markdown",
   "id": "3b60d1e8-1ed6-477f-ac7e-3fe450389aae",
   "metadata": {},
   "source": [
    "---\n",
    "### 2. Create a histogram using Matplotlib using the array."
   ]
  },
  {
   "cell_type": "code",
   "execution_count": 3,
   "id": "cec9a5ab-45b4-433f-ba38-ec73a8fc7802",
   "metadata": {},
   "outputs": [
    {
     "data": {
      "image/png": "[encoded data removed]",
      "text/plain": [
       "<Figure size 640x480 with 1 Axes>"
      ]
     },
     "metadata": {},
     "output_type": "display_data"
    }
   ],
   "source": [
    "# Declare new Axes object called norm_dist_histogram\n",
    "norm_dist_histogram = plt.axes()\n",
    "\n",
    "# Display norm_dist_array data as histogram and customize appearance\n",
    "norm_dist_histogram.hist(norm_dist_array, bins = 20, edgecolor = 'black')\n",
    "norm_dist_histogram.set(xlabel = 'Numbers', ylabel = 'Frequency',\n",
    "                        title = 'A Normal Distribution of 500 Random Numbers')\n",
    "\n",
    "plt.show()"
   ]
  },
  {
   "cell_type": "markdown",
   "id": "677702d5-6d76-4de8-af07-2be1da4e5923",
   "metadata": {},
   "source": [
    "---\n",
    "### 3. Read CountriesWorld.csv into a data frame."
   ]
  },
  {
   "cell_type": "code",
   "execution_count": 4,
   "id": "d401b609-aa6d-4682-8f1d-b80a33a23069",
   "metadata": {},
   "outputs": [],
   "source": [
    "countries_df = pd.read_csv('CountriesWorld.csv')"
   ]
  },
  {
   "cell_type": "code",
   "execution_count": 5,
   "id": "12247077-2a31-465d-bf30-8d3ec6249e15",
   "metadata": {},
   "outputs": [
    {
     "data": {
      "text/html": [
       "<div>\n",
       "<style scoped>\n",
       "    .dataframe tbody tr th:only-of-type {\n",
       "        vertical-align: middle;\n",
       "    }\n",
       "\n",
       "    .dataframe tbody tr th {\n",
       "        vertical-align: top;\n",
       "    }\n",
       "\n",
       "    .dataframe thead th {\n",
       "        text-align: right;\n",
       "    }\n",
       "</style>\n",
       "<table border=\"1\" class=\"dataframe\">\n",
       "  <thead>\n",
       "    <tr style=\"text-align: right;\">\n",
       "      <th></th>\n",
       "      <th>Country</th>\n",
       "      <th>Region</th>\n",
       "      <th>Population</th>\n",
       "      <th>Area (sq. mi.)</th>\n",
       "      <th>Pop. Density (per sq. mi.)</th>\n",
       "      <th>Coastline (coast/area ratio)</th>\n",
       "      <th>Net migration</th>\n",
       "      <th>Infant mortality (per 1000 births)</th>\n",
       "      <th>GDP ($ per capita)</th>\n",
       "      <th>Literacy</th>\n",
       "      <th>Phones (per 1000)</th>\n",
       "      <th>Arable</th>\n",
       "      <th>Crops</th>\n",
       "      <th>Other</th>\n",
       "      <th>Climate</th>\n",
       "      <th>Birthrate</th>\n",
       "      <th>Deathrate</th>\n",
       "      <th>Agriculture</th>\n",
       "      <th>Industry</th>\n",
       "      <th>Service</th>\n",
       "    </tr>\n",
       "  </thead>\n",
       "  <tbody>\n",
       "    <tr>\n",
       "      <th>0</th>\n",
       "      <td>Afghanistan</td>\n",
       "      <td>ASIA (EX. NEAR EAST)</td>\n",
       "      <td>31056997</td>\n",
       "      <td>647500</td>\n",
       "      <td>48.0</td>\n",
       "      <td>0.00</td>\n",
       "      <td>23.06</td>\n",
       "      <td>163.07</td>\n",
       "      <td>700.0</td>\n",
       "      <td>36.0</td>\n",
       "      <td>3.2</td>\n",
       "      <td>12.13</td>\n",
       "      <td>0.22</td>\n",
       "      <td>87.65</td>\n",
       "      <td>1.0</td>\n",
       "      <td>46.60</td>\n",
       "      <td>20.34</td>\n",
       "      <td>0.380</td>\n",
       "      <td>0.240</td>\n",
       "      <td>0.380</td>\n",
       "    </tr>\n",
       "    <tr>\n",
       "      <th>1</th>\n",
       "      <td>Albania</td>\n",
       "      <td>EASTERN EUROPE</td>\n",
       "      <td>3581655</td>\n",
       "      <td>28748</td>\n",
       "      <td>124.6</td>\n",
       "      <td>1.26</td>\n",
       "      <td>-4.93</td>\n",
       "      <td>21.52</td>\n",
       "      <td>4500.0</td>\n",
       "      <td>86.5</td>\n",
       "      <td>71.2</td>\n",
       "      <td>21.09</td>\n",
       "      <td>4.42</td>\n",
       "      <td>74.49</td>\n",
       "      <td>3.0</td>\n",
       "      <td>15.11</td>\n",
       "      <td>5.22</td>\n",
       "      <td>0.232</td>\n",
       "      <td>0.188</td>\n",
       "      <td>0.579</td>\n",
       "    </tr>\n",
       "    <tr>\n",
       "      <th>2</th>\n",
       "      <td>Algeria</td>\n",
       "      <td>NORTHERN AFRICA</td>\n",
       "      <td>32930091</td>\n",
       "      <td>2381740</td>\n",
       "      <td>13.8</td>\n",
       "      <td>0.04</td>\n",
       "      <td>-0.39</td>\n",
       "      <td>31.00</td>\n",
       "      <td>6000.0</td>\n",
       "      <td>70.0</td>\n",
       "      <td>78.1</td>\n",
       "      <td>3.22</td>\n",
       "      <td>0.25</td>\n",
       "      <td>96.53</td>\n",
       "      <td>1.0</td>\n",
       "      <td>17.14</td>\n",
       "      <td>4.61</td>\n",
       "      <td>0.101</td>\n",
       "      <td>0.600</td>\n",
       "      <td>0.298</td>\n",
       "    </tr>\n",
       "    <tr>\n",
       "      <th>3</th>\n",
       "      <td>American Samoa</td>\n",
       "      <td>OCEANIA</td>\n",
       "      <td>57794</td>\n",
       "      <td>199</td>\n",
       "      <td>290.4</td>\n",
       "      <td>58.29</td>\n",
       "      <td>-20.71</td>\n",
       "      <td>9.27</td>\n",
       "      <td>8000.0</td>\n",
       "      <td>97.0</td>\n",
       "      <td>259.5</td>\n",
       "      <td>10.00</td>\n",
       "      <td>15.00</td>\n",
       "      <td>75.00</td>\n",
       "      <td>2.0</td>\n",
       "      <td>22.46</td>\n",
       "      <td>3.27</td>\n",
       "      <td>NaN</td>\n",
       "      <td>NaN</td>\n",
       "      <td>NaN</td>\n",
       "    </tr>\n",
       "    <tr>\n",
       "      <th>4</th>\n",
       "      <td>Andorra</td>\n",
       "      <td>WESTERN EUROPE</td>\n",
       "      <td>71201</td>\n",
       "      <td>468</td>\n",
       "      <td>152.1</td>\n",
       "      <td>0.00</td>\n",
       "      <td>6.60</td>\n",
       "      <td>4.05</td>\n",
       "      <td>19000.0</td>\n",
       "      <td>100.0</td>\n",
       "      <td>497.2</td>\n",
       "      <td>2.22</td>\n",
       "      <td>0.00</td>\n",
       "      <td>97.78</td>\n",
       "      <td>3.0</td>\n",
       "      <td>8.71</td>\n",
       "      <td>6.25</td>\n",
       "      <td>NaN</td>\n",
       "      <td>NaN</td>\n",
       "      <td>NaN</td>\n",
       "    </tr>\n",
       "  </tbody>\n",
       "</table>\n",
       "</div>"
      ],
      "text/plain": [
       "           Country                               Region  Population  \\\n",
       "0     Afghanistan         ASIA (EX. NEAR EAST)             31056997   \n",
       "1         Albania   EASTERN EUROPE                          3581655   \n",
       "2         Algeria   NORTHERN AFRICA                        32930091   \n",
       "3  American Samoa   OCEANIA                                   57794   \n",
       "4         Andorra   WESTERN EUROPE                            71201   \n",
       "\n",
       "   Area (sq. mi.)  Pop. Density (per sq. mi.)  Coastline (coast/area ratio)  \\\n",
       "0          647500                        48.0                          0.00   \n",
       "1           28748                       124.6                          1.26   \n",
       "2         2381740                        13.8                          0.04   \n",
       "3             199                       290.4                         58.29   \n",
       "4             468                       152.1                          0.00   \n",
       "\n",
       "   Net migration  Infant mortality (per 1000 births)  GDP ($ per capita)  \\\n",
       "0          23.06                              163.07               700.0   \n",
       "1          -4.93                               21.52              4500.0   \n",
       "2          -0.39                               31.00              6000.0   \n",
       "3         -20.71                                9.27              8000.0   \n",
       "4           6.60                                4.05             19000.0   \n",
       "\n",
       "   Literacy  Phones (per 1000)  Arable  Crops  Other  Climate  Birthrate  \\\n",
       "0      36.0                3.2   12.13   0.22  87.65      1.0      46.60   \n",
       "1      86.5               71.2   21.09   4.42  74.49      3.0      15.11   \n",
       "2      70.0               78.1    3.22   0.25  96.53      1.0      17.14   \n",
       "3      97.0              259.5   10.00  15.00  75.00      2.0      22.46   \n",
       "4     100.0              497.2    2.22   0.00  97.78      3.0       8.71   \n",
       "\n",
       "   Deathrate  Agriculture  Industry  Service  \n",
       "0      20.34        0.380     0.240    0.380  \n",
       "1       5.22        0.232     0.188    0.579  \n",
       "2       4.61        0.101     0.600    0.298  \n",
       "3       3.27          NaN       NaN      NaN  \n",
       "4       6.25          NaN       NaN      NaN  "
      ]
     },
     "execution_count": 5,
     "metadata": {},
     "output_type": "execute_result"
    }
   ],
   "source": [
    "# Show the first five rows of countries_df\n",
    "countries_df.head()"
   ]
  },
  {
   "cell_type": "code",
   "execution_count": 6,
   "id": "e2925168-3e15-47c9-a0d1-6a3d79ee111d",
   "metadata": {},
   "outputs": [
    {
     "name": "stdout",
     "output_type": "stream",
     "text": [
      "There are 0 duplicated rows in this dataset.\n"
     ]
    }
   ],
   "source": [
    "# Check for duplicate rows\n",
    "print(f'There are {countries_df.duplicated().sum()} duplicated rows in this dataset.')"
   ]
  },
  {
   "cell_type": "markdown",
   "id": "54e22067-b6ac-4c6d-a386-a3db658b4853",
   "metadata": {},
   "source": [
    "---\n",
    "### 4. Create a scatter plot of `GDP ($ per capita)` versus `Literacy`."
   ]
  },
  {
   "cell_type": "markdown",
   "id": "f9e48ec1-6f60-4c09-9169-47c6b33006de",
   "metadata": {},
   "source": [
    "#### Clean the data"
   ]
  },
  {
   "cell_type": "code",
   "execution_count": 7,
   "id": "8f7ad6c9-4cf3-4b67-a1ac-b55c6b544c8a",
   "metadata": {},
   "outputs": [
    {
     "data": {
      "text/plain": [
       "GDP ($ per capita)     1\n",
       "Literacy              18\n",
       "dtype: int64"
      ]
     },
     "execution_count": 7,
     "metadata": {},
     "output_type": "execute_result"
    }
   ],
   "source": [
    "# Pull data only from the 'GDP ($ per capita)' and 'Literacy' columns and assign to df_subset\n",
    "df_subset = countries_df[['GDP ($ per capita)', 'Literacy']]\n",
    "\n",
    "# Check for NaNs in df_subset\n",
    "df_subset.isna().sum()"
   ]
  },
  {
   "cell_type": "code",
   "execution_count": 8,
   "id": "8d08900a-e51c-4331-9d6a-01bf60abd823",
   "metadata": {},
   "outputs": [
    {
     "data": {
      "text/html": [
       "<div>\n",
       "<style scoped>\n",
       "    .dataframe tbody tr th:only-of-type {\n",
       "        vertical-align: middle;\n",
       "    }\n",
       "\n",
       "    .dataframe tbody tr th {\n",
       "        vertical-align: top;\n",
       "    }\n",
       "\n",
       "    .dataframe thead th {\n",
       "        text-align: right;\n",
       "    }\n",
       "</style>\n",
       "<table border=\"1\" class=\"dataframe\">\n",
       "  <thead>\n",
       "    <tr style=\"text-align: right;\">\n",
       "      <th></th>\n",
       "      <th>Country</th>\n",
       "      <th>Region</th>\n",
       "      <th>GDP ($ per capita)</th>\n",
       "      <th>Literacy</th>\n",
       "    </tr>\n",
       "  </thead>\n",
       "  <tbody>\n",
       "    <tr>\n",
       "      <th>25</th>\n",
       "      <td>Bosnia &amp; Herzegovina</td>\n",
       "      <td>EASTERN EUROPE</td>\n",
       "      <td>6100.0</td>\n",
       "      <td>NaN</td>\n",
       "    </tr>\n",
       "    <tr>\n",
       "      <th>66</th>\n",
       "      <td>Faroe Islands</td>\n",
       "      <td>WESTERN EUROPE</td>\n",
       "      <td>22000.0</td>\n",
       "      <td>NaN</td>\n",
       "    </tr>\n",
       "    <tr>\n",
       "      <th>74</th>\n",
       "      <td>Gaza Strip</td>\n",
       "      <td>NEAR EAST</td>\n",
       "      <td>600.0</td>\n",
       "      <td>NaN</td>\n",
       "    </tr>\n",
       "    <tr>\n",
       "      <th>78</th>\n",
       "      <td>Gibraltar</td>\n",
       "      <td>WESTERN EUROPE</td>\n",
       "      <td>17500.0</td>\n",
       "      <td>NaN</td>\n",
       "    </tr>\n",
       "    <tr>\n",
       "      <th>80</th>\n",
       "      <td>Greenland</td>\n",
       "      <td>NORTHERN AMERICA</td>\n",
       "      <td>20000.0</td>\n",
       "      <td>NaN</td>\n",
       "    </tr>\n",
       "    <tr>\n",
       "      <th>85</th>\n",
       "      <td>Guernsey</td>\n",
       "      <td>WESTERN EUROPE</td>\n",
       "      <td>20000.0</td>\n",
       "      <td>NaN</td>\n",
       "    </tr>\n",
       "    <tr>\n",
       "      <th>99</th>\n",
       "      <td>Isle of Man</td>\n",
       "      <td>WESTERN EUROPE</td>\n",
       "      <td>21000.0</td>\n",
       "      <td>NaN</td>\n",
       "    </tr>\n",
       "    <tr>\n",
       "      <th>104</th>\n",
       "      <td>Jersey</td>\n",
       "      <td>WESTERN EUROPE</td>\n",
       "      <td>24800.0</td>\n",
       "      <td>NaN</td>\n",
       "    </tr>\n",
       "    <tr>\n",
       "      <th>108</th>\n",
       "      <td>Kiribati</td>\n",
       "      <td>OCEANIA</td>\n",
       "      <td>800.0</td>\n",
       "      <td>NaN</td>\n",
       "    </tr>\n",
       "    <tr>\n",
       "      <th>123</th>\n",
       "      <td>Macedonia</td>\n",
       "      <td>EASTERN EUROPE</td>\n",
       "      <td>6700.0</td>\n",
       "      <td>NaN</td>\n",
       "    </tr>\n",
       "    <tr>\n",
       "      <th>134</th>\n",
       "      <td>Mayotte</td>\n",
       "      <td>SUB-SAHARAN AFRICA</td>\n",
       "      <td>2600.0</td>\n",
       "      <td>NaN</td>\n",
       "    </tr>\n",
       "    <tr>\n",
       "      <th>144</th>\n",
       "      <td>Nauru</td>\n",
       "      <td>OCEANIA</td>\n",
       "      <td>5000.0</td>\n",
       "      <td>NaN</td>\n",
       "    </tr>\n",
       "    <tr>\n",
       "      <th>185</th>\n",
       "      <td>Slovakia</td>\n",
       "      <td>EASTERN EUROPE</td>\n",
       "      <td>13300.0</td>\n",
       "      <td>NaN</td>\n",
       "    </tr>\n",
       "    <tr>\n",
       "      <th>187</th>\n",
       "      <td>Solomon Islands</td>\n",
       "      <td>OCEANIA</td>\n",
       "      <td>1700.0</td>\n",
       "      <td>NaN</td>\n",
       "    </tr>\n",
       "    <tr>\n",
       "      <th>209</th>\n",
       "      <td>Tuvalu</td>\n",
       "      <td>OCEANIA</td>\n",
       "      <td>1100.0</td>\n",
       "      <td>NaN</td>\n",
       "    </tr>\n",
       "    <tr>\n",
       "      <th>220</th>\n",
       "      <td>Virgin Islands</td>\n",
       "      <td>LATIN AMER. &amp; CARIB</td>\n",
       "      <td>17200.0</td>\n",
       "      <td>NaN</td>\n",
       "    </tr>\n",
       "    <tr>\n",
       "      <th>222</th>\n",
       "      <td>West Bank</td>\n",
       "      <td>NEAR EAST</td>\n",
       "      <td>800.0</td>\n",
       "      <td>NaN</td>\n",
       "    </tr>\n",
       "    <tr>\n",
       "      <th>223</th>\n",
       "      <td>Western Sahara</td>\n",
       "      <td>NORTHERN AFRICA</td>\n",
       "      <td>NaN</td>\n",
       "      <td>NaN</td>\n",
       "    </tr>\n",
       "  </tbody>\n",
       "</table>\n",
       "</div>"
      ],
      "text/plain": [
       "                   Country                               Region  \\\n",
       "25   Bosnia & Herzegovina   EASTERN EUROPE                        \n",
       "66          Faroe Islands   WESTERN EUROPE                        \n",
       "74             Gaza Strip   NEAR EAST                             \n",
       "78              Gibraltar   WESTERN EUROPE                        \n",
       "80              Greenland   NORTHERN AMERICA                      \n",
       "85               Guernsey   WESTERN EUROPE                        \n",
       "99            Isle of Man   WESTERN EUROPE                        \n",
       "104                Jersey   WESTERN EUROPE                        \n",
       "108              Kiribati   OCEANIA                               \n",
       "123             Macedonia   EASTERN EUROPE                        \n",
       "134               Mayotte   SUB-SAHARAN AFRICA                    \n",
       "144                 Nauru   OCEANIA                               \n",
       "185              Slovakia   EASTERN EUROPE                        \n",
       "187       Solomon Islands   OCEANIA                               \n",
       "209                Tuvalu   OCEANIA                               \n",
       "220        Virgin Islands               LATIN AMER. & CARIB       \n",
       "222             West Bank   NEAR EAST                             \n",
       "223        Western Sahara   NORTHERN AFRICA                       \n",
       "\n",
       "     GDP ($ per capita)  Literacy  \n",
       "25               6100.0       NaN  \n",
       "66              22000.0       NaN  \n",
       "74                600.0       NaN  \n",
       "78              17500.0       NaN  \n",
       "80              20000.0       NaN  \n",
       "85              20000.0       NaN  \n",
       "99              21000.0       NaN  \n",
       "104             24800.0       NaN  \n",
       "108               800.0       NaN  \n",
       "123              6700.0       NaN  \n",
       "134              2600.0       NaN  \n",
       "144              5000.0       NaN  \n",
       "185             13300.0       NaN  \n",
       "187              1700.0       NaN  \n",
       "209              1100.0       NaN  \n",
       "220             17200.0       NaN  \n",
       "222               800.0       NaN  \n",
       "223                 NaN       NaN  "
      ]
     },
     "execution_count": 8,
     "metadata": {},
     "output_type": "execute_result"
    }
   ],
   "source": [
    "# Get the rows with NaNs in the 'GDP ($ per capita)' and 'Literacy' columns from countries_df\n",
    "bool_condition = countries_df['GDP ($ per capita)'].isna() | countries_df['Literacy'].isna()\n",
    "columns = ['Country', 'Region', 'GDP ($ per capita)', 'Literacy']\n",
    "\n",
    "countries_df[bool_condition][columns]"
   ]
  },
  {
   "cell_type": "markdown",
   "id": "c065bfea-c3b2-4517-9570-097dec822221",
   "metadata": {},
   "source": [
    "Since values in both the `GDP ($ per capita)` and `Literacy` columns are required for a scatterplot, the 18 rows of null values shown above will be dropped from `df_subset`."
   ]
  },
  {
   "cell_type": "code",
   "execution_count": 9,
   "id": "3868e15a-a6d7-4410-acbe-a83a901d3108",
   "metadata": {},
   "outputs": [
    {
     "name": "stdout",
     "output_type": "stream",
     "text": [
      "There are now 0 null values in df_subset.\n"
     ]
    }
   ],
   "source": [
    "# Drop the NaNs from df_subset\n",
    "df_subset = df_subset.dropna()\n",
    "\n",
    "print(f'There are now {df_subset.isna().sum().sum()} null values in df_subset.')"
   ]
  },
  {
   "cell_type": "markdown",
   "id": "4331e9e8-8311-481c-897c-8ef30ce12f2b",
   "metadata": {},
   "source": [
    "#### Create the scatterplot"
   ]
  },
  {
   "cell_type": "code",
   "execution_count": 10,
   "id": "42e826f2-1b75-4e24-9f91-e9b5b2597f59",
   "metadata": {},
   "outputs": [
    {
     "data": {
      "image/png": "[encoded data removed]",
      "text/plain": [
       "<Figure size 640x480 with 1 Axes>"
      ]
     },
     "metadata": {},
     "output_type": "display_data"
    }
   ],
   "source": [
    "# Declare new Axes object called gdp_lit_scatter\n",
    "gdp_lit_scatter = plt.axes()\n",
    "\n",
    "# Display scatterplot and customize appearance\n",
    "gdp_lit_scatter.scatter(df_subset['Literacy'], df_subset['GDP ($ per capita)'], marker = '.', color = 'm')\n",
    "gdp_lit_scatter.set(xlabel = 'Literacy', ylabel = 'GDP ($ per capita)', \n",
    "                    title = 'Relationship between Literacy and GDP')\n",
    "\n",
    "plt.show()"
   ]
  },
  {
   "cell_type": "markdown",
   "id": "79c796c7-b7b9-410f-a23d-1dad443e2dad",
   "metadata": {},
   "source": [
    "---\n",
    "### 5. Read iris.json into a data frame."
   ]
  },
  {
   "cell_type": "code",
   "execution_count": 11,
   "id": "7c311c61-5d47-4e5c-a7fb-977114c73441",
   "metadata": {},
   "outputs": [],
   "source": [
    "iris_df = pd.read_json('iris.json')"
   ]
  },
  {
   "cell_type": "code",
   "execution_count": 12,
   "id": "42b03b8d-87d1-4a67-8b62-74f979a7d487",
   "metadata": {},
   "outputs": [
    {
     "data": {
      "text/html": [
       "<div>\n",
       "<style scoped>\n",
       "    .dataframe tbody tr th:only-of-type {\n",
       "        vertical-align: middle;\n",
       "    }\n",
       "\n",
       "    .dataframe tbody tr th {\n",
       "        vertical-align: top;\n",
       "    }\n",
       "\n",
       "    .dataframe thead th {\n",
       "        text-align: right;\n",
       "    }\n",
       "</style>\n",
       "<table border=\"1\" class=\"dataframe\">\n",
       "  <thead>\n",
       "    <tr style=\"text-align: right;\">\n",
       "      <th></th>\n",
       "      <th>sepal_length</th>\n",
       "      <th>sepal_width</th>\n",
       "      <th>petal_length</th>\n",
       "      <th>petal_width</th>\n",
       "      <th>species</th>\n",
       "    </tr>\n",
       "  </thead>\n",
       "  <tbody>\n",
       "    <tr>\n",
       "      <th>0</th>\n",
       "      <td>5.1</td>\n",
       "      <td>3.5</td>\n",
       "      <td>1.4</td>\n",
       "      <td>0.2</td>\n",
       "      <td>setosa</td>\n",
       "    </tr>\n",
       "    <tr>\n",
       "      <th>1</th>\n",
       "      <td>4.9</td>\n",
       "      <td>3.0</td>\n",
       "      <td>1.4</td>\n",
       "      <td>0.2</td>\n",
       "      <td>setosa</td>\n",
       "    </tr>\n",
       "    <tr>\n",
       "      <th>2</th>\n",
       "      <td>4.7</td>\n",
       "      <td>3.2</td>\n",
       "      <td>1.3</td>\n",
       "      <td>0.2</td>\n",
       "      <td>setosa</td>\n",
       "    </tr>\n",
       "    <tr>\n",
       "      <th>3</th>\n",
       "      <td>4.6</td>\n",
       "      <td>3.1</td>\n",
       "      <td>1.5</td>\n",
       "      <td>0.2</td>\n",
       "      <td>setosa</td>\n",
       "    </tr>\n",
       "    <tr>\n",
       "      <th>4</th>\n",
       "      <td>5.0</td>\n",
       "      <td>3.6</td>\n",
       "      <td>1.4</td>\n",
       "      <td>0.2</td>\n",
       "      <td>setosa</td>\n",
       "    </tr>\n",
       "  </tbody>\n",
       "</table>\n",
       "</div>"
      ],
      "text/plain": [
       "   sepal_length  sepal_width  petal_length  petal_width species\n",
       "0           5.1          3.5           1.4          0.2  setosa\n",
       "1           4.9          3.0           1.4          0.2  setosa\n",
       "2           4.7          3.2           1.3          0.2  setosa\n",
       "3           4.6          3.1           1.5          0.2  setosa\n",
       "4           5.0          3.6           1.4          0.2  setosa"
      ]
     },
     "execution_count": 12,
     "metadata": {},
     "output_type": "execute_result"
    }
   ],
   "source": [
    "# Show the first five rows of iris_df\n",
    "iris_df.head()"
   ]
  },
  {
   "cell_type": "code",
   "execution_count": 13,
   "id": "33d9af4a-4160-4c37-84e4-9a158d1ad4cc",
   "metadata": {},
   "outputs": [
    {
     "name": "stdout",
     "output_type": "stream",
     "text": [
      "There is 1 duplicated row in this dataset.\n"
     ]
    }
   ],
   "source": [
    "# Check for duplicate rows\n",
    "print(f'There is {iris_df.duplicated().sum()} duplicated row in this dataset.')"
   ]
  },
  {
   "cell_type": "markdown",
   "id": "eb5387a8-eb8e-47fe-b809-85e8c24ed745",
   "metadata": {},
   "source": [
    "#### Clean the data"
   ]
  },
  {
   "cell_type": "code",
   "execution_count": 14,
   "id": "46781905-a344-4689-b4dc-05dae79962fa",
   "metadata": {},
   "outputs": [
    {
     "name": "stdout",
     "output_type": "stream",
     "text": [
      "There are now 0 duplicated rows in this dataset.\n"
     ]
    }
   ],
   "source": [
    "# Remove duplicate rows\n",
    "iris_df = iris_df.drop_duplicates()\n",
    "\n",
    "print(f'There are now {iris_df.duplicated().sum()} duplicated rows in this dataset.')"
   ]
  },
  {
   "cell_type": "markdown",
   "id": "cc6ba489-ecc7-435d-b918-8d9940ca2c1d",
   "metadata": {},
   "source": [
    "---\n",
    "### 6. Create a pivot data frame that shows the average petal width per species."
   ]
  },
  {
   "cell_type": "code",
   "execution_count": 15,
   "id": "7eb35dcb-2afc-4d21-a6c9-2fa444a6335f",
   "metadata": {},
   "outputs": [
    {
     "data": {
      "text/html": [
       "<div>\n",
       "<style scoped>\n",
       "    .dataframe tbody tr th:only-of-type {\n",
       "        vertical-align: middle;\n",
       "    }\n",
       "\n",
       "    .dataframe tbody tr th {\n",
       "        vertical-align: top;\n",
       "    }\n",
       "\n",
       "    .dataframe thead th {\n",
       "        text-align: right;\n",
       "    }\n",
       "</style>\n",
       "<table border=\"1\" class=\"dataframe\">\n",
       "  <thead>\n",
       "    <tr style=\"text-align: right;\">\n",
       "      <th></th>\n",
       "      <th>petal_width</th>\n",
       "    </tr>\n",
       "    <tr>\n",
       "      <th>species</th>\n",
       "      <th></th>\n",
       "    </tr>\n",
       "  </thead>\n",
       "  <tbody>\n",
       "    <tr>\n",
       "      <th>setosa</th>\n",
       "      <td>0.246000</td>\n",
       "    </tr>\n",
       "    <tr>\n",
       "      <th>versicolor</th>\n",
       "      <td>1.326000</td>\n",
       "    </tr>\n",
       "    <tr>\n",
       "      <th>virginica</th>\n",
       "      <td>2.028571</td>\n",
       "    </tr>\n",
       "  </tbody>\n",
       "</table>\n",
       "</div>"
      ],
      "text/plain": [
       "            petal_width\n",
       "species                \n",
       "setosa         0.246000\n",
       "versicolor     1.326000\n",
       "virginica      2.028571"
      ]
     },
     "execution_count": 15,
     "metadata": {},
     "output_type": "execute_result"
    }
   ],
   "source": [
    "# Create pivot table and assign to pivot_df\n",
    "pivot_df = iris_df.pivot_table('petal_width', index = 'species', aggfunc = 'mean')\n",
    "pivot_df"
   ]
  },
  {
   "cell_type": "code",
   "execution_count": 16,
   "id": "c1ad94ff-3f8e-41f2-9698-d569cd2caf2d",
   "metadata": {},
   "outputs": [
    {
     "data": {
      "text/plain": [
       "species\n",
       "setosa        0.246000\n",
       "versicolor    1.326000\n",
       "virginica     2.028571\n",
       "Name: petal_width, dtype: float64"
      ]
     },
     "execution_count": 16,
     "metadata": {},
     "output_type": "execute_result"
    }
   ],
   "source": [
    "# Check that this pivot table matches the average petal width by species from the groupby method\n",
    "iris_df.groupby('species')['petal_width'].mean()"
   ]
  },
  {
   "cell_type": "markdown",
   "id": "282be9e3-5d2d-49f9-841a-f6882b2e27c7",
   "metadata": {},
   "source": [
    "---\n",
    "### 7. Make a bar plot for the pivot table showing species versus average petal width."
   ]
  },
  {
   "cell_type": "code",
   "execution_count": 18,
   "id": "1afa12e3-4078-4110-b4c5-3c37160ab463",
   "metadata": {},
   "outputs": [
    {
     "data": {
      "image/png": "[encoded data removed]",
      "text/plain": [
       "<Figure size 640x480 with 1 Axes>"
      ]
     },
     "metadata": {},
     "output_type": "display_data"
    }
   ],
   "source": [
    "# Declare new Axes object called sp_petal_w_bar\n",
    "sp_petal_w_bar = plt.axes()\n",
    "\n",
    "# Display scatterplot and customize appearance\n",
    "sp_petal_w_bar.bar(pivot_df.index, pivot_df['petal_width'], color = 'g', edgecolor = 'black')\n",
    "sp_petal_w_bar.set(xlabel = 'Species', ylabel = 'Petal Width (cm)', \n",
    "                    title = 'Flower Petal Width by Species')\n",
    "\n",
    "plt.show()"
   ]
  },
  {
   "cell_type": "markdown",
   "id": "ea7dff7b-d5d8-4ed3-bf35-decc05fbd8d0",
   "metadata": {},
   "source": [
    "---"
   ]
  }
 ],
 "metadata": {
  "kernelspec": {
   "display_name": "Python 3 (ipykernel)",
   "language": "python",
   "name": "python3"
  },
  "language_info": {
   "codemirror_mode": {
    "name": "ipython",
    "version": 3
   },
   "file_extension": ".py",
   "mimetype": "text/x-python",
   "name": "python",
   "nbconvert_exporter": "python",
   "pygments_lexer": "ipython3",
   "version": "3.11.3"
  }
 },
 "nbformat": 4,
 "nbformat_minor": 5
}
