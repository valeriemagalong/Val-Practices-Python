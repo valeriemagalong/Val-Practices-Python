{
 "cells": [
  {
   "cell_type": "markdown",
   "id": "7baf08ec-4ab3-4c6c-91f0-2fdf62e8bdd2",
   "metadata": {},
   "source": [
    "# Exploring Statistical Measures\n",
    "## Penguins Data\n",
    "---"
   ]
  },
  {
   "cell_type": "markdown",
   "id": "f47c02e5-9c2a-4af2-a19a-67f41cf894a4",
   "metadata": {},
   "source": [
    "### Setting a default style theme"
   ]
  },
  {
   "cell_type": "code",
   "execution_count": 1,
   "id": "aef7e9d2-5f44-4f9e-bea5-76dd8c84ca19",
   "metadata": {},
   "outputs": [],
   "source": [
    "import seaborn as sns\n",
    "\n",
    "# Set the default style for visualizations\n",
    "custom_params = {\n",
    "    \"axes.spines.right\": False,\n",
    "    \"axes.spines.top\": False\n",
    "}\n",
    "\n",
    "sns.set_theme(style = 'ticks', palette = 'Set2', font = 'Arial', rc = custom_params)"
   ]
  },
  {
   "cell_type": "markdown",
   "id": "737ee5e4-401a-459e-b88d-f0c29c4b3b4b",
   "metadata": {},
   "source": [
    "### Importing the data"
   ]
  },
  {
   "cell_type": "code",
   "execution_count": 2,
   "id": "a2e4e9ef-b903-42e0-aa99-4a3bd46ee45c",
   "metadata": {},
   "outputs": [
    {
     "name": "stdout",
     "output_type": "stream",
     "text": [
      "<class 'pandas.core.frame.DataFrame'>\n",
      "RangeIndex: 344 entries, 0 to 343\n",
      "Data columns (total 7 columns):\n",
      " #   Column             Non-Null Count  Dtype  \n",
      "---  ------             --------------  -----  \n",
      " 0   species            344 non-null    object \n",
      " 1   island             344 non-null    object \n",
      " 2   bill_length_mm     342 non-null    float64\n",
      " 3   bill_depth_mm      342 non-null    float64\n",
      " 4   flipper_length_mm  342 non-null    float64\n",
      " 5   body_mass_g        342 non-null    float64\n",
      " 6   sex                333 non-null    object \n",
      "dtypes: float64(4), object(3)\n",
      "memory usage: 18.9+ KB\n"
     ]
    }
   ],
   "source": [
    "# Load the Penguins example dataset into a dataframe\n",
    "df_raw = sns.load_dataset('penguins')\n",
    "\n",
    "# Make a new copy of df_raw (called df) for cleaning/transformation\n",
    "df = df_raw.copy()\n",
    "\n",
    "# Get summary info about the data\n",
    "df.info()"
   ]
  },
  {
   "cell_type": "markdown",
   "id": "0113c3ff-1706-4bb6-9f98-e6a5d6087be4",
   "metadata": {},
   "source": [
    "---"
   ]
  },
  {
   "cell_type": "markdown",
   "id": "3c0d8425-d173-4ae5-aadd-8dcfca676fed",
   "metadata": {},
   "source": [
    "### 1. Run the describe method on the penguins dataset. Which number is larger: the mean body mass or the median body mass?"
   ]
  },
  {
   "cell_type": "code",
   "execution_count": null,
   "id": "541ef41b-4268-4233-ae98-3c77bc01f0bd",
   "metadata": {},
   "outputs": [],
   "source": []
  },
  {
   "cell_type": "markdown",
   "id": "84d56352-a1be-40c8-aa2d-e30b05f7f465",
   "metadata": {},
   "source": [
    "---"
   ]
  },
  {
   "cell_type": "markdown",
   "id": "10dd0ede-f1df-4f02-b948-f9e59c56de5e",
   "metadata": {},
   "source": [
    "### 2. Write code to display only the maximum value of each column."
   ]
  },
  {
   "cell_type": "code",
   "execution_count": null,
   "id": "cc10eb91-93e3-45b0-b1e8-880b31c215f8",
   "metadata": {},
   "outputs": [],
   "source": []
  },
  {
   "cell_type": "markdown",
   "id": "9f1d97d4-efa2-48b7-afb5-c53d4f62f2b5",
   "metadata": {},
   "source": [
    "---"
   ]
  },
  {
   "cell_type": "markdown",
   "id": "d9937039-d1fa-4a8c-8ff1-195faffc4564",
   "metadata": {},
   "source": [
    "### 3. Run value_counts() on the species column. Which species is the most common?"
   ]
  },
  {
   "cell_type": "code",
   "execution_count": null,
   "id": "3fad3f50-4297-4132-961f-487b7aced94c",
   "metadata": {},
   "outputs": [],
   "source": []
  },
  {
   "cell_type": "markdown",
   "id": "589e22b4-e23a-4c7e-9732-3da1d304f317",
   "metadata": {},
   "source": [
    "---"
   ]
  },
  {
   "cell_type": "markdown",
   "id": "3aa1f702-2c40-4dc0-8b11-a70eee3a599a",
   "metadata": {},
   "source": [
    "### 4. Write code to find the 90th percentile of body mass. Translate the result into a sentence."
   ]
  },
  {
   "cell_type": "code",
   "execution_count": null,
   "id": "5a7e2ef3-05cb-4e59-bd31-337719c98d8a",
   "metadata": {},
   "outputs": [],
   "source": []
  },
  {
   "cell_type": "markdown",
   "id": "86b0590c-3427-4545-9419-8f7e08e104ea",
   "metadata": {},
   "source": [
    "---"
   ]
  },
  {
   "cell_type": "markdown",
   "id": "d2815b8b-d1f3-4d2a-88f7-21a79f66b8a0",
   "metadata": {},
   "source": [
    "### 5. Write code to group by species and find the median of all quantitative columns for each species. Based on these results, which species has the shortest median bill depth?"
   ]
  },
  {
   "cell_type": "code",
   "execution_count": null,
   "id": "8889137e-226e-41ac-b4c6-0a80acb4cee9",
   "metadata": {},
   "outputs": [],
   "source": []
  },
  {
   "cell_type": "markdown",
   "id": "031796cf-1fe9-4935-8cc7-62c655848ec7",
   "metadata": {},
   "source": [
    "---"
   ]
  },
  {
   "cell_type": "markdown",
   "id": "f250adba-4e8d-471e-8dca-c113616976cc",
   "metadata": {},
   "source": [
    "### 6. Create a kdeplot for the flipper length variable. Approximately (round to a multiple of 10), what is the most common value for this variable?"
   ]
  },
  {
   "cell_type": "code",
   "execution_count": null,
   "id": "522a08da-8a6f-406f-80c1-795215c2fd08",
   "metadata": {},
   "outputs": [],
   "source": []
  },
  {
   "cell_type": "markdown",
   "id": "8a35579c-2458-46b0-bf83-eb9a2aa0cd3e",
   "metadata": {},
   "source": [
    "---"
   ]
  }
 ],
 "metadata": {
  "kernelspec": {
   "display_name": "Python 3 (ipykernel)",
   "language": "python",
   "name": "python3"
  },
  "language_info": {
   "codemirror_mode": {
    "name": "ipython",
    "version": 3
   },
   "file_extension": ".py",
   "mimetype": "text/x-python",
   "name": "python",
   "nbconvert_exporter": "python",
   "pygments_lexer": "ipython3",
   "version": "3.10.9"
  }
 },
 "nbformat": 4,
 "nbformat_minor": 5
}
