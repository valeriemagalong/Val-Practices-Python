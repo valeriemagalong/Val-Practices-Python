{
 "cells": [
  {
   "cell_type": "markdown",
   "id": "7baf08ec-4ab3-4c6c-91f0-2fdf62e8bdd2",
   "metadata": {},
   "source": [
    "# Exploring Statistical Measures\n",
    "## Penguins Data\n",
    "---"
   ]
  },
  {
   "cell_type": "markdown",
   "id": "f47c02e5-9c2a-4af2-a19a-67f41cf894a4",
   "metadata": {},
   "source": [
    "### Setting a default style theme"
   ]
  },
  {
   "cell_type": "code",
   "execution_count": 25,
   "id": "aef7e9d2-5f44-4f9e-bea5-76dd8c84ca19",
   "metadata": {},
   "outputs": [],
   "source": [
    "import seaborn as sns\n",
    "\n",
    "# Set the default style for visualizations\n",
    "custom_params = {\n",
    "    \"axes.spines.right\": False,\n",
    "    \"axes.spines.top\": False\n",
    "}\n",
    "\n",
    "sns.set_theme(style = 'ticks', palette = 'Set2', font = 'Arial', rc = custom_params)"
   ]
  },
  {
   "cell_type": "markdown",
   "id": "737ee5e4-401a-459e-b88d-f0c29c4b3b4b",
   "metadata": {},
   "source": [
    "### Importing the data"
   ]
  },
  {
   "cell_type": "code",
   "execution_count": 2,
   "id": "a2e4e9ef-b903-42e0-aa99-4a3bd46ee45c",
   "metadata": {},
   "outputs": [
    {
     "name": "stdout",
     "output_type": "stream",
     "text": [
      "<class 'pandas.core.frame.DataFrame'>\n",
      "RangeIndex: 344 entries, 0 to 343\n",
      "Data columns (total 7 columns):\n",
      " #   Column             Non-Null Count  Dtype  \n",
      "---  ------             --------------  -----  \n",
      " 0   species            344 non-null    object \n",
      " 1   island             344 non-null    object \n",
      " 2   bill_length_mm     342 non-null    float64\n",
      " 3   bill_depth_mm      342 non-null    float64\n",
      " 4   flipper_length_mm  342 non-null    float64\n",
      " 5   body_mass_g        342 non-null    float64\n",
      " 6   sex                333 non-null    object \n",
      "dtypes: float64(4), object(3)\n",
      "memory usage: 18.9+ KB\n"
     ]
    }
   ],
   "source": [
    "# Load the Penguins example dataset into a dataframe\n",
    "df_raw = sns.load_dataset('penguins')\n",
    "\n",
    "# Make a new copy of df_raw (called df) for cleaning/transformation\n",
    "df = df_raw.copy()\n",
    "\n",
    "# Get summary info about the data\n",
    "df.info()"
   ]
  },
  {
   "cell_type": "markdown",
   "id": "0113c3ff-1706-4bb6-9f98-e6a5d6087be4",
   "metadata": {},
   "source": [
    "---"
   ]
  },
  {
   "cell_type": "markdown",
   "id": "3c0d8425-d173-4ae5-aadd-8dcfca676fed",
   "metadata": {},
   "source": [
    "### 1. Run the describe method on the penguins dataset. Which number is larger: the mean body mass or the median body mass?"
   ]
  },
  {
   "cell_type": "code",
   "execution_count": 5,
   "id": "541ef41b-4268-4233-ae98-3c77bc01f0bd",
   "metadata": {},
   "outputs": [
    {
     "data": {
      "text/html": [
       "<div>\n",
       "<style scoped>\n",
       "    .dataframe tbody tr th:only-of-type {\n",
       "        vertical-align: middle;\n",
       "    }\n",
       "\n",
       "    .dataframe tbody tr th {\n",
       "        vertical-align: top;\n",
       "    }\n",
       "\n",
       "    .dataframe thead th {\n",
       "        text-align: right;\n",
       "    }\n",
       "</style>\n",
       "<table border=\"1\" class=\"dataframe\">\n",
       "  <thead>\n",
       "    <tr style=\"text-align: right;\">\n",
       "      <th></th>\n",
       "      <th>bill_length_mm</th>\n",
       "      <th>bill_depth_mm</th>\n",
       "      <th>flipper_length_mm</th>\n",
       "      <th>body_mass_g</th>\n",
       "    </tr>\n",
       "  </thead>\n",
       "  <tbody>\n",
       "    <tr>\n",
       "      <th>count</th>\n",
       "      <td>342.000000</td>\n",
       "      <td>342.000000</td>\n",
       "      <td>342.000000</td>\n",
       "      <td>342.000000</td>\n",
       "    </tr>\n",
       "    <tr>\n",
       "      <th>mean</th>\n",
       "      <td>43.921930</td>\n",
       "      <td>17.151170</td>\n",
       "      <td>200.915205</td>\n",
       "      <td>4201.754386</td>\n",
       "    </tr>\n",
       "    <tr>\n",
       "      <th>std</th>\n",
       "      <td>5.459584</td>\n",
       "      <td>1.974793</td>\n",
       "      <td>14.061714</td>\n",
       "      <td>801.954536</td>\n",
       "    </tr>\n",
       "    <tr>\n",
       "      <th>min</th>\n",
       "      <td>32.100000</td>\n",
       "      <td>13.100000</td>\n",
       "      <td>172.000000</td>\n",
       "      <td>2700.000000</td>\n",
       "    </tr>\n",
       "    <tr>\n",
       "      <th>25%</th>\n",
       "      <td>39.225000</td>\n",
       "      <td>15.600000</td>\n",
       "      <td>190.000000</td>\n",
       "      <td>3550.000000</td>\n",
       "    </tr>\n",
       "    <tr>\n",
       "      <th>50%</th>\n",
       "      <td>44.450000</td>\n",
       "      <td>17.300000</td>\n",
       "      <td>197.000000</td>\n",
       "      <td>4050.000000</td>\n",
       "    </tr>\n",
       "    <tr>\n",
       "      <th>75%</th>\n",
       "      <td>48.500000</td>\n",
       "      <td>18.700000</td>\n",
       "      <td>213.000000</td>\n",
       "      <td>4750.000000</td>\n",
       "    </tr>\n",
       "    <tr>\n",
       "      <th>max</th>\n",
       "      <td>59.600000</td>\n",
       "      <td>21.500000</td>\n",
       "      <td>231.000000</td>\n",
       "      <td>6300.000000</td>\n",
       "    </tr>\n",
       "  </tbody>\n",
       "</table>\n",
       "</div>"
      ],
      "text/plain": [
       "       bill_length_mm  bill_depth_mm  flipper_length_mm  body_mass_g\n",
       "count      342.000000     342.000000         342.000000   342.000000\n",
       "mean        43.921930      17.151170         200.915205  4201.754386\n",
       "std          5.459584       1.974793          14.061714   801.954536\n",
       "min         32.100000      13.100000         172.000000  2700.000000\n",
       "25%         39.225000      15.600000         190.000000  3550.000000\n",
       "50%         44.450000      17.300000         197.000000  4050.000000\n",
       "75%         48.500000      18.700000         213.000000  4750.000000\n",
       "max         59.600000      21.500000         231.000000  6300.000000"
      ]
     },
     "execution_count": 5,
     "metadata": {},
     "output_type": "execute_result"
    }
   ],
   "source": [
    "# Declare df_stats and assign it the evaluated result of the describe method\n",
    "df_stats = df.describe()\n",
    "df_stats"
   ]
  },
  {
   "cell_type": "markdown",
   "id": "5f790113-da60-40bf-86e5-901b110d50ae",
   "metadata": {},
   "source": [
    "***Note:*** In the `df_stats` dataframe above, row index '50%' represents the median."
   ]
  },
  {
   "cell_type": "code",
   "execution_count": 17,
   "id": "926befc6-edb4-4b43-9d6c-f0ea3ee1ed08",
   "metadata": {},
   "outputs": [
    {
     "name": "stdout",
     "output_type": "stream",
     "text": [
      "The mean body mass is: 4201.75 g\n",
      "The median body mass is: 4050.0 g\n"
     ]
    }
   ],
   "source": [
    "# Get mean body mass (mean_bm) and median body mass (median_bm)\n",
    "mean_bm = df_stats.loc['mean', 'body_mass_g']\n",
    "median_bm = df_stats.loc['50%', 'body_mass_g']\n",
    "\n",
    "print(f\"The mean body mass is: {round(mean_bm, 2)} g\")\n",
    "print(f\"The median body mass is: {round(median_bm, 2)} g\")"
   ]
  },
  {
   "cell_type": "code",
   "execution_count": 19,
   "id": "6ef0473e-7584-48b4-88ca-998ea75ccc0e",
   "metadata": {},
   "outputs": [
    {
     "name": "stdout",
     "output_type": "stream",
     "text": [
      "The larger number is: 4201.75 g (the mean)\n"
     ]
    }
   ],
   "source": [
    "# Compare mean_bm and median_bm to find the larger num, and assign to larger_num\n",
    "bm_dict = {mean_bm: 'mean', median_bm: 'median'}\n",
    "larger_num = mean_bm if mean_bm > median_bm else median_bm\n",
    "\n",
    "print(f\"The larger number is: {round(larger_num, 2)} g (the {bm_dict[larger_num]})\")"
   ]
  },
  {
   "cell_type": "markdown",
   "id": "84d56352-a1be-40c8-aa2d-e30b05f7f465",
   "metadata": {},
   "source": [
    "---"
   ]
  },
  {
   "cell_type": "markdown",
   "id": "10dd0ede-f1df-4f02-b948-f9e59c56de5e",
   "metadata": {},
   "source": [
    "### 2. Write code to display only the maximum value of each column."
   ]
  },
  {
   "cell_type": "code",
   "execution_count": 24,
   "id": "cc10eb91-93e3-45b0-b1e8-880b31c215f8",
   "metadata": {},
   "outputs": [
    {
     "data": {
      "text/plain": [
       "bill_length_mm         59.6\n",
       "bill_depth_mm          21.5\n",
       "flipper_length_mm     231.0\n",
       "body_mass_g          6300.0\n",
       "Name: max, dtype: float64"
      ]
     },
     "execution_count": 24,
     "metadata": {},
     "output_type": "execute_result"
    }
   ],
   "source": [
    "df_stats.loc['max']"
   ]
  },
  {
   "cell_type": "code",
   "execution_count": 28,
   "id": "e3205806-d6bb-47b8-ac3c-3360e4547fc0",
   "metadata": {},
   "outputs": [
    {
     "data": {
      "text/plain": [
       "bill_length_mm         59.6\n",
       "bill_depth_mm          21.5\n",
       "flipper_length_mm     231.0\n",
       "body_mass_g          6300.0\n",
       "dtype: float64"
      ]
     },
     "execution_count": 28,
     "metadata": {},
     "output_type": "execute_result"
    }
   ],
   "source": [
    "# Alternatively, we can use the max method with the original dataframe (df)\n",
    "df.max(numeric_only = True)"
   ]
  },
  {
   "cell_type": "markdown",
   "id": "9f1d97d4-efa2-48b7-afb5-c53d4f62f2b5",
   "metadata": {},
   "source": [
    "---"
   ]
  },
  {
   "cell_type": "markdown",
   "id": "d9937039-d1fa-4a8c-8ff1-195faffc4564",
   "metadata": {},
   "source": [
    "### 3. Run value_counts() on the species column. Which species is the most common?"
   ]
  },
  {
   "cell_type": "code",
   "execution_count": 34,
   "id": "3fad3f50-4297-4132-961f-487b7aced94c",
   "metadata": {},
   "outputs": [
    {
     "data": {
      "text/plain": [
       "species\n",
       "Adelie       152\n",
       "Gentoo       124\n",
       "Chinstrap     68\n",
       "dtype: int64"
      ]
     },
     "execution_count": 34,
     "metadata": {},
     "output_type": "execute_result"
    }
   ],
   "source": [
    "# IMPORTANT: The value_counts method, by default, drops NaN values.  NaNs in the species column won't be counted.\n",
    "species_counts = df.value_counts('species')\n",
    "species_counts"
   ]
  },
  {
   "cell_type": "code",
   "execution_count": 39,
   "id": "edd77d89-0953-4711-b2da-963b59df95af",
   "metadata": {},
   "outputs": [
    {
     "name": "stdout",
     "output_type": "stream",
     "text": [
      "The most common species is: Adelie\n",
      "There are 152 data points for Adelie in this dataset.\n"
     ]
    }
   ],
   "source": [
    "most_common_species = species_counts.idxmax()\n",
    "\n",
    "print(f\"The most common species is: {most_common_species}\")\n",
    "print(f\"There are {species_counts[most_common_species]} data points for {most_common_species} in this dataset.\")"
   ]
  },
  {
   "cell_type": "markdown",
   "id": "589e22b4-e23a-4c7e-9732-3da1d304f317",
   "metadata": {},
   "source": [
    "---"
   ]
  },
  {
   "cell_type": "markdown",
   "id": "3aa1f702-2c40-4dc0-8b11-a70eee3a599a",
   "metadata": {},
   "source": [
    "### 4. Write code to find the 90th percentile of body mass. Translate the result into a sentence."
   ]
  },
  {
   "cell_type": "code",
   "execution_count": 41,
   "id": "5a7e2ef3-05cb-4e59-bd31-337719c98d8a",
   "metadata": {},
   "outputs": [
    {
     "data": {
      "text/html": [
       "<div>\n",
       "<style scoped>\n",
       "    .dataframe tbody tr th:only-of-type {\n",
       "        vertical-align: middle;\n",
       "    }\n",
       "\n",
       "    .dataframe tbody tr th {\n",
       "        vertical-align: top;\n",
       "    }\n",
       "\n",
       "    .dataframe thead th {\n",
       "        text-align: right;\n",
       "    }\n",
       "</style>\n",
       "<table border=\"1\" class=\"dataframe\">\n",
       "  <thead>\n",
       "    <tr style=\"text-align: right;\">\n",
       "      <th></th>\n",
       "      <th>bill_length_mm</th>\n",
       "      <th>bill_depth_mm</th>\n",
       "      <th>flipper_length_mm</th>\n",
       "      <th>body_mass_g</th>\n",
       "    </tr>\n",
       "  </thead>\n",
       "  <tbody>\n",
       "    <tr>\n",
       "      <th>count</th>\n",
       "      <td>342.000000</td>\n",
       "      <td>342.000000</td>\n",
       "      <td>342.000000</td>\n",
       "      <td>342.000000</td>\n",
       "    </tr>\n",
       "    <tr>\n",
       "      <th>mean</th>\n",
       "      <td>43.921930</td>\n",
       "      <td>17.151170</td>\n",
       "      <td>200.915205</td>\n",
       "      <td>4201.754386</td>\n",
       "    </tr>\n",
       "    <tr>\n",
       "      <th>std</th>\n",
       "      <td>5.459584</td>\n",
       "      <td>1.974793</td>\n",
       "      <td>14.061714</td>\n",
       "      <td>801.954536</td>\n",
       "    </tr>\n",
       "    <tr>\n",
       "      <th>min</th>\n",
       "      <td>32.100000</td>\n",
       "      <td>13.100000</td>\n",
       "      <td>172.000000</td>\n",
       "      <td>2700.000000</td>\n",
       "    </tr>\n",
       "    <tr>\n",
       "      <th>25%</th>\n",
       "      <td>39.225000</td>\n",
       "      <td>15.600000</td>\n",
       "      <td>190.000000</td>\n",
       "      <td>3550.000000</td>\n",
       "    </tr>\n",
       "    <tr>\n",
       "      <th>50%</th>\n",
       "      <td>44.450000</td>\n",
       "      <td>17.300000</td>\n",
       "      <td>197.000000</td>\n",
       "      <td>4050.000000</td>\n",
       "    </tr>\n",
       "    <tr>\n",
       "      <th>75%</th>\n",
       "      <td>48.500000</td>\n",
       "      <td>18.700000</td>\n",
       "      <td>213.000000</td>\n",
       "      <td>4750.000000</td>\n",
       "    </tr>\n",
       "    <tr>\n",
       "      <th>90%</th>\n",
       "      <td>50.800000</td>\n",
       "      <td>19.500000</td>\n",
       "      <td>220.900000</td>\n",
       "      <td>5400.000000</td>\n",
       "    </tr>\n",
       "    <tr>\n",
       "      <th>max</th>\n",
       "      <td>59.600000</td>\n",
       "      <td>21.500000</td>\n",
       "      <td>231.000000</td>\n",
       "      <td>6300.000000</td>\n",
       "    </tr>\n",
       "  </tbody>\n",
       "</table>\n",
       "</div>"
      ],
      "text/plain": [
       "       bill_length_mm  bill_depth_mm  flipper_length_mm  body_mass_g\n",
       "count      342.000000     342.000000         342.000000   342.000000\n",
       "mean        43.921930      17.151170         200.915205  4201.754386\n",
       "std          5.459584       1.974793          14.061714   801.954536\n",
       "min         32.100000      13.100000         172.000000  2700.000000\n",
       "25%         39.225000      15.600000         190.000000  3550.000000\n",
       "50%         44.450000      17.300000         197.000000  4050.000000\n",
       "75%         48.500000      18.700000         213.000000  4750.000000\n",
       "90%         50.800000      19.500000         220.900000  5400.000000\n",
       "max         59.600000      21.500000         231.000000  6300.000000"
      ]
     },
     "execution_count": 41,
     "metadata": {},
     "output_type": "execute_result"
    }
   ],
   "source": [
    "# Reassign df_stats to the evaluated result of the describe method with modified percentiles\n",
    "df_stats = df.describe(percentiles = [0.25, 0.50, 0.75, 0.90])\n",
    "df_stats"
   ]
  },
  {
   "cell_type": "code",
   "execution_count": 43,
   "id": "38f2b4da-ddca-4dfe-a583-ca172f6bc5e6",
   "metadata": {},
   "outputs": [
    {
     "name": "stdout",
     "output_type": "stream",
     "text": [
      "The 90th percentile of body mass is: 5400.0 g\n"
     ]
    }
   ],
   "source": [
    "# From the df_stats, only pull data from the 'body_mass_g' column and row index '90%'\n",
    "bm_90th_percentile = df_stats.loc['90%', 'body_mass_g']\n",
    "\n",
    "print(f\"The 90th percentile of body mass is: {round(bm_90th_percentile, 2)} g\")"
   ]
  },
  {
   "cell_type": "markdown",
   "id": "86b0590c-3427-4545-9419-8f7e08e104ea",
   "metadata": {},
   "source": [
    "---"
   ]
  },
  {
   "cell_type": "markdown",
   "id": "d2815b8b-d1f3-4d2a-88f7-21a79f66b8a0",
   "metadata": {},
   "source": [
    "### 5. Write code to group by species and find the median of all quantitative columns for each species. Based on these results, which species has the shortest median bill depth?"
   ]
  },
  {
   "cell_type": "code",
   "execution_count": null,
   "id": "8889137e-226e-41ac-b4c6-0a80acb4cee9",
   "metadata": {},
   "outputs": [],
   "source": []
  },
  {
   "cell_type": "markdown",
   "id": "031796cf-1fe9-4935-8cc7-62c655848ec7",
   "metadata": {},
   "source": [
    "---"
   ]
  },
  {
   "cell_type": "markdown",
   "id": "f250adba-4e8d-471e-8dca-c113616976cc",
   "metadata": {},
   "source": [
    "### 6. Create a kdeplot for the flipper length variable. Approximately (round to a multiple of 10), what is the most common value for this variable?"
   ]
  },
  {
   "cell_type": "code",
   "execution_count": null,
   "id": "522a08da-8a6f-406f-80c1-795215c2fd08",
   "metadata": {},
   "outputs": [],
   "source": []
  },
  {
   "cell_type": "markdown",
   "id": "8a35579c-2458-46b0-bf83-eb9a2aa0cd3e",
   "metadata": {},
   "source": [
    "---"
   ]
  }
 ],
 "metadata": {
  "kernelspec": {
   "display_name": "Python 3 (ipykernel)",
   "language": "python",
   "name": "python3"
  },
  "language_info": {
   "codemirror_mode": {
    "name": "ipython",
    "version": 3
   },
   "file_extension": ".py",
   "mimetype": "text/x-python",
   "name": "python",
   "nbconvert_exporter": "python",
   "pygments_lexer": "ipython3",
   "version": "3.10.9"
  }
 },
 "nbformat": 4,
 "nbformat_minor": 5
}
