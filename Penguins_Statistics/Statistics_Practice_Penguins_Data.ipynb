{
 "cells": [
  {
   "cell_type": "markdown",
   "id": "7baf08ec-4ab3-4c6c-91f0-2fdf62e8bdd2",
   "metadata": {},
   "source": [
    "# Exploring Statistical Measures\n",
    "## Penguins Data\n",
    "---"
   ]
  },
  {
   "cell_type": "markdown",
   "id": "f47c02e5-9c2a-4af2-a19a-67f41cf894a4",
   "metadata": {},
   "source": [
    "### Setting a default style theme"
   ]
  },
  {
   "cell_type": "code",
   "execution_count": 1,
   "id": "aef7e9d2-5f44-4f9e-bea5-76dd8c84ca19",
   "metadata": {},
   "outputs": [],
   "source": [
    "import seaborn as sns\n",
    "\n",
    "# Set the default style for visualizations\n",
    "custom_params = {\n",
    "    \"axes.spines.right\": False,\n",
    "    \"axes.spines.top\": False\n",
    "}\n",
    "\n",
    "sns.set_theme(style = 'ticks', palette = 'Set2', font = 'Arial', rc = custom_params)"
   ]
  },
  {
   "cell_type": "markdown",
   "id": "737ee5e4-401a-459e-b88d-f0c29c4b3b4b",
   "metadata": {},
   "source": [
    "### Importing the data"
   ]
  },
  {
   "cell_type": "code",
   "execution_count": 2,
   "id": "a2e4e9ef-b903-42e0-aa99-4a3bd46ee45c",
   "metadata": {},
   "outputs": [
    {
     "name": "stdout",
     "output_type": "stream",
     "text": [
      "<class 'pandas.core.frame.DataFrame'>\n",
      "RangeIndex: 344 entries, 0 to 343\n",
      "Data columns (total 7 columns):\n",
      " #   Column             Non-Null Count  Dtype  \n",
      "---  ------             --------------  -----  \n",
      " 0   species            344 non-null    object \n",
      " 1   island             344 non-null    object \n",
      " 2   bill_length_mm     342 non-null    float64\n",
      " 3   bill_depth_mm      342 non-null    float64\n",
      " 4   flipper_length_mm  342 non-null    float64\n",
      " 5   body_mass_g        342 non-null    float64\n",
      " 6   sex                333 non-null    object \n",
      "dtypes: float64(4), object(3)\n",
      "memory usage: 18.9+ KB\n"
     ]
    }
   ],
   "source": [
    "# Load the Penguins example dataset into a dataframe\n",
    "df_raw = sns.load_dataset('penguins')\n",
    "\n",
    "# Make a new copy of df_raw (called df) for cleaning/transformation\n",
    "df = df_raw.copy()\n",
    "\n",
    "# Get summary info about the data\n",
    "df.info()"
   ]
  }
 ],
 "metadata": {
  "kernelspec": {
   "display_name": "Python 3 (ipykernel)",
   "language": "python",
   "name": "python3"
  },
  "language_info": {
   "codemirror_mode": {
    "name": "ipython",
    "version": 3
   },
   "file_extension": ".py",
   "mimetype": "text/x-python",
   "name": "python",
   "nbconvert_exporter": "python",
   "pygments_lexer": "ipython3",
   "version": "3.10.9"
  }
 },
 "nbformat": 4,
 "nbformat_minor": 5
}
