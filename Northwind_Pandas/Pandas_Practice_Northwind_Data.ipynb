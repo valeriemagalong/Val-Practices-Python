{
 "cells": [
  {
   "cell_type": "markdown",
   "id": "576f6642-3243-4c87-827b-2026f70a800c",
   "metadata": {},
   "source": [
    "# Valerie Magalong - Advanced Pandas: Transforming Data Challenge"
   ]
  },
  {
   "cell_type": "markdown",
   "id": "ae81652d-2ded-44ae-b834-2d00cc2bded4",
   "metadata": {},
   "source": [
    "## Wednesday, July 26, 2023\n",
    "---"
   ]
  },
  {
   "cell_type": "code",
   "execution_count": 2,
   "id": "438e4d79-39b6-4e9b-9711-7c1de4b1ffca",
   "metadata": {},
   "outputs": [
    {
     "data": {
      "text/html": [
       "<div>\n",
       "<style scoped>\n",
       "    .dataframe tbody tr th:only-of-type {\n",
       "        vertical-align: middle;\n",
       "    }\n",
       "\n",
       "    .dataframe tbody tr th {\n",
       "        vertical-align: top;\n",
       "    }\n",
       "\n",
       "    .dataframe thead th {\n",
       "        text-align: right;\n",
       "    }\n",
       "</style>\n",
       "<table border=\"1\" class=\"dataframe\">\n",
       "  <thead>\n",
       "    <tr style=\"text-align: right;\">\n",
       "      <th></th>\n",
       "      <th>product_id</th>\n",
       "      <th>product_name</th>\n",
       "      <th>quantity_per_unit</th>\n",
       "      <th>unit_price</th>\n",
       "      <th>units_in_stock</th>\n",
       "      <th>units_on_order</th>\n",
       "      <th>reorder_level</th>\n",
       "      <th>discontinued</th>\n",
       "      <th>category_name</th>\n",
       "      <th>company_name</th>\n",
       "      <th>country</th>\n",
       "      <th>website</th>\n",
       "    </tr>\n",
       "  </thead>\n",
       "  <tbody>\n",
       "    <tr>\n",
       "      <th>0</th>\n",
       "      <td>1</td>\n",
       "      <td>Chai</td>\n",
       "      <td>10 boxes x 30 bags</td>\n",
       "      <td>18.00</td>\n",
       "      <td>39</td>\n",
       "      <td>0</td>\n",
       "      <td>10.0</td>\n",
       "      <td>1</td>\n",
       "      <td>Beverages</td>\n",
       "      <td>Specialty Biscuits, Ltd.</td>\n",
       "      <td>UK</td>\n",
       "      <td>/</td>\n",
       "    </tr>\n",
       "    <tr>\n",
       "      <th>1</th>\n",
       "      <td>2</td>\n",
       "      <td>Chang</td>\n",
       "      <td>24 - 12 oz bottles</td>\n",
       "      <td>19.00</td>\n",
       "      <td>17</td>\n",
       "      <td>40</td>\n",
       "      <td>25.0</td>\n",
       "      <td>1</td>\n",
       "      <td>Beverages</td>\n",
       "      <td>Exotic Liquids</td>\n",
       "      <td>UK</td>\n",
       "      <td>NaN</td>\n",
       "    </tr>\n",
       "    <tr>\n",
       "      <th>2</th>\n",
       "      <td>2</td>\n",
       "      <td>Chang</td>\n",
       "      <td>24 - 12 oz bottles</td>\n",
       "      <td>19.00</td>\n",
       "      <td>17</td>\n",
       "      <td>40</td>\n",
       "      <td>25.0</td>\n",
       "      <td>1</td>\n",
       "      <td>Beverages</td>\n",
       "      <td>Exotic Liquids</td>\n",
       "      <td>UK</td>\n",
       "      <td>NaN</td>\n",
       "    </tr>\n",
       "    <tr>\n",
       "      <th>3</th>\n",
       "      <td>3</td>\n",
       "      <td>Aniseed Syrup</td>\n",
       "      <td>12 - 550 ml bottles</td>\n",
       "      <td>10.00</td>\n",
       "      <td>13</td>\n",
       "      <td>70</td>\n",
       "      <td>25.0</td>\n",
       "      <td>0</td>\n",
       "      <td>Condiments</td>\n",
       "      <td>Exotic Liquids</td>\n",
       "      <td>UK</td>\n",
       "      <td>\"\"</td>\n",
       "    </tr>\n",
       "    <tr>\n",
       "      <th>4</th>\n",
       "      <td>4</td>\n",
       "      <td>Chef Anton's Cajun Seasoning</td>\n",
       "      <td>48 - 6 oz jars</td>\n",
       "      <td>22.00</td>\n",
       "      <td>53</td>\n",
       "      <td>0</td>\n",
       "      <td>0.0</td>\n",
       "      <td>0</td>\n",
       "      <td>Condiments</td>\n",
       "      <td>New Orleans Cajun Delights</td>\n",
       "      <td>USA</td>\n",
       "      <td>NaN</td>\n",
       "    </tr>\n",
       "    <tr>\n",
       "      <th>...</th>\n",
       "      <td>...</td>\n",
       "      <td>...</td>\n",
       "      <td>...</td>\n",
       "      <td>...</td>\n",
       "      <td>...</td>\n",
       "      <td>...</td>\n",
       "      <td>...</td>\n",
       "      <td>...</td>\n",
       "      <td>...</td>\n",
       "      <td>...</td>\n",
       "      <td>...</td>\n",
       "      <td>...</td>\n",
       "    </tr>\n",
       "    <tr>\n",
       "      <th>73</th>\n",
       "      <td>63</td>\n",
       "      <td>Vegie-spread</td>\n",
       "      <td>15 - 625 g jars</td>\n",
       "      <td>43.90</td>\n",
       "      <td>24</td>\n",
       "      <td>0</td>\n",
       "      <td>5.0</td>\n",
       "      <td>0</td>\n",
       "      <td>Condiments</td>\n",
       "      <td>Pavlova, Ltd.</td>\n",
       "      <td>Australia</td>\n",
       "      <td>NaN</td>\n",
       "    </tr>\n",
       "    <tr>\n",
       "      <th>74</th>\n",
       "      <td>64</td>\n",
       "      <td>Wimmers gute Semmelkn√∂del</td>\n",
       "      <td>20 bags x 4 pieces</td>\n",
       "      <td>33.25</td>\n",
       "      <td>22</td>\n",
       "      <td>80</td>\n",
       "      <td>30.0</td>\n",
       "      <td>0</td>\n",
       "      <td>Grains/Cereals</td>\n",
       "      <td>Plutzer Lebensmittelgro√üm√§rkte AG</td>\n",
       "      <td>Germany</td>\n",
       "      <td>NaN</td>\n",
       "    </tr>\n",
       "    <tr>\n",
       "      <th>75</th>\n",
       "      <td>65</td>\n",
       "      <td>Louisiana Fiery Hot Pepper Sauce</td>\n",
       "      <td>32 - 8 oz bottles</td>\n",
       "      <td>21.05</td>\n",
       "      <td>76</td>\n",
       "      <td>0</td>\n",
       "      <td>0.0</td>\n",
       "      <td>0</td>\n",
       "      <td>Condiments</td>\n",
       "      <td>New Orleans Cajun Delights</td>\n",
       "      <td>USA</td>\n",
       "      <td>NaN</td>\n",
       "    </tr>\n",
       "    <tr>\n",
       "      <th>76</th>\n",
       "      <td>66</td>\n",
       "      <td>Louisiana Hot Spiced Okra</td>\n",
       "      <td>24 - 8 oz jars</td>\n",
       "      <td>17.00</td>\n",
       "      <td>4</td>\n",
       "      <td>100</td>\n",
       "      <td>20.0</td>\n",
       "      <td>0</td>\n",
       "      <td>Condiments</td>\n",
       "      <td>New Orleans Cajun Delights</td>\n",
       "      <td>USA</td>\n",
       "      <td>NaN</td>\n",
       "    </tr>\n",
       "    <tr>\n",
       "      <th>77</th>\n",
       "      <td>69</td>\n",
       "      <td>Gudbrandsdalsost</td>\n",
       "      <td>10 kg pkg.</td>\n",
       "      <td>36.00</td>\n",
       "      <td>26</td>\n",
       "      <td>0</td>\n",
       "      <td>15.0</td>\n",
       "      <td>0</td>\n",
       "      <td>Dairy Products</td>\n",
       "      <td>Norske Meierier</td>\n",
       "      <td>Norway</td>\n",
       "      <td>NaN</td>\n",
       "    </tr>\n",
       "  </tbody>\n",
       "</table>\n",
       "<p>78 rows × 12 columns</p>\n",
       "</div>"
      ],
      "text/plain": [
       "    product_id                      product_name    quantity_per_unit  \\\n",
       "0            1                              Chai   10 boxes x 30 bags   \n",
       "1            2                             Chang   24 - 12 oz bottles   \n",
       "2            2                             Chang   24 - 12 oz bottles   \n",
       "3            3                     Aniseed Syrup  12 - 550 ml bottles   \n",
       "4            4      Chef Anton's Cajun Seasoning       48 - 6 oz jars   \n",
       "..         ...                               ...                  ...   \n",
       "73          63                      Vegie-spread      15 - 625 g jars   \n",
       "74          64        Wimmers gute Semmelkn√∂del   20 bags x 4 pieces   \n",
       "75          65  Louisiana Fiery Hot Pepper Sauce    32 - 8 oz bottles   \n",
       "76          66         Louisiana Hot Spiced Okra       24 - 8 oz jars   \n",
       "77          69                  Gudbrandsdalsost           10 kg pkg.   \n",
       "\n",
       "    unit_price  units_in_stock  units_on_order  reorder_level  discontinued  \\\n",
       "0        18.00              39               0           10.0             1   \n",
       "1        19.00              17              40           25.0             1   \n",
       "2        19.00              17              40           25.0             1   \n",
       "3        10.00              13              70           25.0             0   \n",
       "4        22.00              53               0            0.0             0   \n",
       "..         ...             ...             ...            ...           ...   \n",
       "73       43.90              24               0            5.0             0   \n",
       "74       33.25              22              80           30.0             0   \n",
       "75       21.05              76               0            0.0             0   \n",
       "76       17.00               4             100           20.0             0   \n",
       "77       36.00              26               0           15.0             0   \n",
       "\n",
       "     category_name                         company_name    country website  \n",
       "0        Beverages             Specialty Biscuits, Ltd.         UK       /  \n",
       "1        Beverages                       Exotic Liquids         UK     NaN  \n",
       "2        Beverages                       Exotic Liquids         UK     NaN  \n",
       "3       Condiments                       Exotic Liquids         UK      \"\"  \n",
       "4       Condiments           New Orleans Cajun Delights        USA     NaN  \n",
       "..             ...                                  ...        ...     ...  \n",
       "73      Condiments                        Pavlova, Ltd.  Australia     NaN  \n",
       "74  Grains/Cereals  Plutzer Lebensmittelgro√üm√§rkte AG    Germany     NaN  \n",
       "75      Condiments           New Orleans Cajun Delights        USA     NaN  \n",
       "76      Condiments           New Orleans Cajun Delights        USA     NaN  \n",
       "77  Dairy Products                      Norske Meierier     Norway     NaN  \n",
       "\n",
       "[78 rows x 12 columns]"
      ]
     },
     "execution_count": 2,
     "metadata": {},
     "output_type": "execute_result"
    }
   ],
   "source": [
    "import pandas as pd\n",
    "\n",
    "# Read xlsx data into new dataframe\n",
    "original_df = pd.read_excel(\"Northwind_products_suppliers.xlsx\")\n",
    "\n",
    "# Make copy of original_df for later transformation\n",
    "northwind_df = original_df.copy()"
   ]
  },
  {
   "cell_type": "markdown",
   "id": "c15de8cd-58ad-4a7e-9363-e067c8be8926",
   "metadata": {},
   "source": [
    "### 1. What data is in the first 4 rows?"
   ]
  },
  {
   "cell_type": "code",
   "execution_count": null,
   "id": "331e366a-5e74-4a55-95bd-4b4a2990d988",
   "metadata": {},
   "outputs": [],
   "source": []
  },
  {
   "cell_type": "markdown",
   "id": "32cf7fe2-ca65-4c04-b029-ccb64a2e3fd9",
   "metadata": {},
   "source": [
    "### 2. Calculate how many rows and columns are in this file."
   ]
  },
  {
   "cell_type": "code",
   "execution_count": null,
   "id": "21fe2284-20e0-4387-b0d9-299a8f702c8f",
   "metadata": {},
   "outputs": [],
   "source": []
  },
  {
   "cell_type": "markdown",
   "id": "31e4bcc2-a120-489f-838d-115ab630dd2c",
   "metadata": {},
   "source": [
    "### 3. What’s the maximum unit_price?"
   ]
  },
  {
   "cell_type": "code",
   "execution_count": null,
   "id": "7a7e4fb6-db31-419d-bbf9-dcfa59e438c9",
   "metadata": {},
   "outputs": [],
   "source": []
  },
  {
   "cell_type": "markdown",
   "id": "e34029b7-da3d-43d2-9f9f-8cdb10e9fd6d",
   "metadata": {},
   "source": [
    "### 4. Use describe() to get the descriptive statistics for this file."
   ]
  },
  {
   "cell_type": "code",
   "execution_count": null,
   "id": "b4d379d5-0820-45d7-be09-80d8d8f0d8f8",
   "metadata": {},
   "outputs": [],
   "source": []
  },
  {
   "cell_type": "markdown",
   "id": "944117c6-b19d-493f-8522-cb3c9a5eac70",
   "metadata": {},
   "source": [
    "### 5. Replace any NULL values in reorder_level with 0."
   ]
  },
  {
   "cell_type": "code",
   "execution_count": null,
   "id": "b2b3c1a2-8cac-42d5-9658-da6164d9d4b4",
   "metadata": {},
   "outputs": [],
   "source": []
  },
  {
   "cell_type": "markdown",
   "id": "d93bd110-d8ce-4795-89c9-9e227e5dd347",
   "metadata": {},
   "source": [
    "### 6. Remove duplicate rows."
   ]
  },
  {
   "cell_type": "code",
   "execution_count": null,
   "id": "4dcba7b7-6f93-4997-ae48-f5fff91a99f0",
   "metadata": {},
   "outputs": [],
   "source": []
  },
  {
   "cell_type": "markdown",
   "id": "980c5dc9-0462-47b3-8305-901586b2acb9",
   "metadata": {},
   "source": [
    "### 7. Change \"Gustaf's Kn√§ckebr√∂d\" To \"Gustaf's Knäckebröd\"."
   ]
  },
  {
   "cell_type": "code",
   "execution_count": null,
   "id": "351e7565-8a27-495c-9c4d-5b3e98bcfcf9",
   "metadata": {},
   "outputs": [],
   "source": []
  },
  {
   "cell_type": "markdown",
   "id": "c5078e47-00a1-401e-a1e3-4e37e856eb03",
   "metadata": {},
   "source": [
    "### 8. Remove the column for website."
   ]
  },
  {
   "cell_type": "code",
   "execution_count": null,
   "id": "9136f0c1-b0a7-4fa4-8bcb-12e72134547b",
   "metadata": {},
   "outputs": [],
   "source": []
  },
  {
   "cell_type": "markdown",
   "id": "ab2cdd0d-e09d-40a9-bd4d-6b8549b43df5",
   "metadata": {},
   "source": [
    "### 9. Create a crosstab, with category_name in rows and country in columns."
   ]
  },
  {
   "cell_type": "code",
   "execution_count": null,
   "id": "c6ad223e-eef7-49d5-b14c-8034a283628d",
   "metadata": {},
   "outputs": [],
   "source": []
  },
  {
   "cell_type": "markdown",
   "id": "fddc65cd-4604-4ed3-95f3-74fff1000587",
   "metadata": {},
   "source": [
    "### 10. Create a pivot table with average unit_price by category."
   ]
  },
  {
   "cell_type": "code",
   "execution_count": null,
   "id": "c88b9599-1fe0-4795-a71d-b8588148d449",
   "metadata": {},
   "outputs": [],
   "source": []
  },
  {
   "cell_type": "markdown",
   "id": "97cfbe32-6d05-4812-9773-bac65ef02bc3",
   "metadata": {},
   "source": [
    "### 11. Create a pivot table with average reorder_level  by category (rows) and country (columns)."
   ]
  },
  {
   "cell_type": "code",
   "execution_count": null,
   "id": "774ff9a6-bc27-4e6b-a93d-24ac616c40fb",
   "metadata": {},
   "outputs": [],
   "source": []
  },
  {
   "cell_type": "markdown",
   "id": "ccee7448-a635-44d1-ab96-b80c25f0deaa",
   "metadata": {},
   "source": [
    "### 12. Create a groupby table with sum of discontinued products by company name."
   ]
  },
  {
   "cell_type": "code",
   "execution_count": null,
   "id": "a54fcedd-d6fe-46da-8349-080192c8dcc9",
   "metadata": {},
   "outputs": [],
   "source": []
  },
  {
   "cell_type": "markdown",
   "id": "9e4aee05-b745-4f34-8cc0-f7ce196a21c9",
   "metadata": {},
   "source": [
    "### 13. Create a groupby table with maximum unit_price by country and category (both in rows)."
   ]
  },
  {
   "cell_type": "code",
   "execution_count": null,
   "id": "ebdd3237-8ea6-4deb-bc5c-f04c02273477",
   "metadata": {},
   "outputs": [],
   "source": []
  }
 ],
 "metadata": {
  "kernelspec": {
   "display_name": "Python 3 (ipykernel)",
   "language": "python",
   "name": "python3"
  },
  "language_info": {
   "codemirror_mode": {
    "name": "ipython",
    "version": 3
   },
   "file_extension": ".py",
   "mimetype": "text/x-python",
   "name": "python",
   "nbconvert_exporter": "python",
   "pygments_lexer": "ipython3",
   "version": "3.10.9"
  }
 },
 "nbformat": 4,
 "nbformat_minor": 5
}
