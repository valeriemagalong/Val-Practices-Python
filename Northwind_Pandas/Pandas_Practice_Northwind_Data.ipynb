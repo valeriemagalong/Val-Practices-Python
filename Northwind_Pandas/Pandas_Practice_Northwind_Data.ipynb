{
 "cells": [
  {
   "cell_type": "markdown",
   "id": "576f6642-3243-4c87-827b-2026f70a800c",
   "metadata": {},
   "source": [
    "# Valerie Magalong - Advanced Pandas: Transforming Data Challenge"
   ]
  },
  {
   "cell_type": "markdown",
   "id": "ae81652d-2ded-44ae-b834-2d00cc2bded4",
   "metadata": {},
   "source": [
    "## Wednesday, July 26, 2023\n",
    "---"
   ]
  },
  {
   "cell_type": "markdown",
   "id": "c15de8cd-58ad-4a7e-9363-e067c8be8926",
   "metadata": {},
   "source": [
    "### 1. What data is in the first 4 rows?"
   ]
  },
  {
   "cell_type": "code",
   "execution_count": null,
   "id": "331e366a-5e74-4a55-95bd-4b4a2990d988",
   "metadata": {},
   "outputs": [],
   "source": []
  },
  {
   "cell_type": "markdown",
   "id": "32cf7fe2-ca65-4c04-b029-ccb64a2e3fd9",
   "metadata": {},
   "source": [
    "### 2. Calculate how many rows and columns are in this file."
   ]
  },
  {
   "cell_type": "code",
   "execution_count": null,
   "id": "21fe2284-20e0-4387-b0d9-299a8f702c8f",
   "metadata": {},
   "outputs": [],
   "source": []
  },
  {
   "cell_type": "markdown",
   "id": "31e4bcc2-a120-489f-838d-115ab630dd2c",
   "metadata": {},
   "source": [
    "### 3. What’s the maximum unit_price?"
   ]
  },
  {
   "cell_type": "code",
   "execution_count": null,
   "id": "7a7e4fb6-db31-419d-bbf9-dcfa59e438c9",
   "metadata": {},
   "outputs": [],
   "source": []
  },
  {
   "cell_type": "markdown",
   "id": "e34029b7-da3d-43d2-9f9f-8cdb10e9fd6d",
   "metadata": {},
   "source": [
    "### 4. Use describe() to get the descriptive statistics for this file."
   ]
  },
  {
   "cell_type": "code",
   "execution_count": null,
   "id": "b4d379d5-0820-45d7-be09-80d8d8f0d8f8",
   "metadata": {},
   "outputs": [],
   "source": []
  },
  {
   "cell_type": "markdown",
   "id": "944117c6-b19d-493f-8522-cb3c9a5eac70",
   "metadata": {},
   "source": [
    "### 5. Replace any NULL values in reorder_level with 0."
   ]
  },
  {
   "cell_type": "code",
   "execution_count": null,
   "id": "b2b3c1a2-8cac-42d5-9658-da6164d9d4b4",
   "metadata": {},
   "outputs": [],
   "source": []
  },
  {
   "cell_type": "markdown",
   "id": "d93bd110-d8ce-4795-89c9-9e227e5dd347",
   "metadata": {},
   "source": [
    "### 6. Remove duplicate rows."
   ]
  },
  {
   "cell_type": "code",
   "execution_count": null,
   "id": "4dcba7b7-6f93-4997-ae48-f5fff91a99f0",
   "metadata": {},
   "outputs": [],
   "source": []
  },
  {
   "cell_type": "markdown",
   "id": "980c5dc9-0462-47b3-8305-901586b2acb9",
   "metadata": {},
   "source": [
    "### 7. Change \"Gustaf's Kn√§ckebr√∂d\" To \"Gustaf's Knäckebröd\"."
   ]
  },
  {
   "cell_type": "code",
   "execution_count": null,
   "id": "351e7565-8a27-495c-9c4d-5b3e98bcfcf9",
   "metadata": {},
   "outputs": [],
   "source": []
  },
  {
   "cell_type": "markdown",
   "id": "c5078e47-00a1-401e-a1e3-4e37e856eb03",
   "metadata": {},
   "source": [
    "### 8. Remove the column for website."
   ]
  },
  {
   "cell_type": "code",
   "execution_count": null,
   "id": "9136f0c1-b0a7-4fa4-8bcb-12e72134547b",
   "metadata": {},
   "outputs": [],
   "source": []
  },
  {
   "cell_type": "markdown",
   "id": "ab2cdd0d-e09d-40a9-bd4d-6b8549b43df5",
   "metadata": {},
   "source": [
    "### 9. Create a crosstab, with category_name in rows and country in columns."
   ]
  },
  {
   "cell_type": "code",
   "execution_count": null,
   "id": "c6ad223e-eef7-49d5-b14c-8034a283628d",
   "metadata": {},
   "outputs": [],
   "source": []
  },
  {
   "cell_type": "markdown",
   "id": "fddc65cd-4604-4ed3-95f3-74fff1000587",
   "metadata": {},
   "source": [
    "### 10. Create a pivot table with average unit_price by category."
   ]
  },
  {
   "cell_type": "code",
   "execution_count": null,
   "id": "c88b9599-1fe0-4795-a71d-b8588148d449",
   "metadata": {},
   "outputs": [],
   "source": []
  },
  {
   "cell_type": "markdown",
   "id": "97cfbe32-6d05-4812-9773-bac65ef02bc3",
   "metadata": {},
   "source": [
    "### 11. Create a pivot table with average reorder_level  by category (rows) and country (columns)."
   ]
  },
  {
   "cell_type": "code",
   "execution_count": null,
   "id": "774ff9a6-bc27-4e6b-a93d-24ac616c40fb",
   "metadata": {},
   "outputs": [],
   "source": []
  },
  {
   "cell_type": "markdown",
   "id": "ccee7448-a635-44d1-ab96-b80c25f0deaa",
   "metadata": {},
   "source": [
    "### 12. Create a groupby table with sum of discontinued products by company name."
   ]
  },
  {
   "cell_type": "code",
   "execution_count": null,
   "id": "a54fcedd-d6fe-46da-8349-080192c8dcc9",
   "metadata": {},
   "outputs": [],
   "source": []
  },
  {
   "cell_type": "markdown",
   "id": "9e4aee05-b745-4f34-8cc0-f7ce196a21c9",
   "metadata": {},
   "source": [
    "### 13. Create a groupby table with maximum unit_price by country and category (both in rows)."
   ]
  },
  {
   "cell_type": "code",
   "execution_count": null,
   "id": "ebdd3237-8ea6-4deb-bc5c-f04c02273477",
   "metadata": {},
   "outputs": [],
   "source": []
  }
 ],
 "metadata": {
  "kernelspec": {
   "display_name": "Python 3 (ipykernel)",
   "language": "python",
   "name": "python3"
  },
  "language_info": {
   "codemirror_mode": {
    "name": "ipython",
    "version": 3
   },
   "file_extension": ".py",
   "mimetype": "text/x-python",
   "name": "python",
   "nbconvert_exporter": "python",
   "pygments_lexer": "ipython3",
   "version": "3.10.9"
  }
 },
 "nbformat": 4,
 "nbformat_minor": 5
}
