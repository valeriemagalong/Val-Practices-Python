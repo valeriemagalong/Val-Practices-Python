{
 "cells": [
  {
   "cell_type": "markdown",
   "id": "576f6642-3243-4c87-827b-2026f70a800c",
   "metadata": {},
   "source": [
    "# Valerie Magalong - Advanced Pandas: Transforming Data Challenge"
   ]
  },
  {
   "cell_type": "markdown",
   "id": "ae81652d-2ded-44ae-b834-2d00cc2bded4",
   "metadata": {},
   "source": [
    "## Wednesday, July 26, 2023\n",
    "---"
   ]
  },
  {
   "cell_type": "code",
   "execution_count": 6,
   "id": "438e4d79-39b6-4e9b-9711-7c1de4b1ffca",
   "metadata": {},
   "outputs": [],
   "source": [
    "import pandas as pd\n",
    "\n",
    "# Read xlsx data into new dataframe\n",
    "original_df = pd.read_excel(\"Northwind_products_suppliers.xlsx\")\n",
    "\n",
    "# Make copy of original_df for later transformation\n",
    "northwind_df = original_df.copy()"
   ]
  },
  {
   "cell_type": "markdown",
   "id": "c15de8cd-58ad-4a7e-9363-e067c8be8926",
   "metadata": {},
   "source": [
    "### 1. What data is in the first 4 rows?"
   ]
  },
  {
   "cell_type": "code",
   "execution_count": 7,
   "id": "331e366a-5e74-4a55-95bd-4b4a2990d988",
   "metadata": {},
   "outputs": [
    {
     "data": {
      "text/html": [
       "<div>\n",
       "<style scoped>\n",
       "    .dataframe tbody tr th:only-of-type {\n",
       "        vertical-align: middle;\n",
       "    }\n",
       "\n",
       "    .dataframe tbody tr th {\n",
       "        vertical-align: top;\n",
       "    }\n",
       "\n",
       "    .dataframe thead th {\n",
       "        text-align: right;\n",
       "    }\n",
       "</style>\n",
       "<table border=\"1\" class=\"dataframe\">\n",
       "  <thead>\n",
       "    <tr style=\"text-align: right;\">\n",
       "      <th></th>\n",
       "      <th>product_id</th>\n",
       "      <th>product_name</th>\n",
       "      <th>quantity_per_unit</th>\n",
       "      <th>unit_price</th>\n",
       "      <th>units_in_stock</th>\n",
       "      <th>units_on_order</th>\n",
       "      <th>reorder_level</th>\n",
       "      <th>discontinued</th>\n",
       "      <th>category_name</th>\n",
       "      <th>company_name</th>\n",
       "      <th>country</th>\n",
       "      <th>website</th>\n",
       "    </tr>\n",
       "  </thead>\n",
       "  <tbody>\n",
       "    <tr>\n",
       "      <th>0</th>\n",
       "      <td>1</td>\n",
       "      <td>Chai</td>\n",
       "      <td>10 boxes x 30 bags</td>\n",
       "      <td>18.0</td>\n",
       "      <td>39</td>\n",
       "      <td>0</td>\n",
       "      <td>10.0</td>\n",
       "      <td>1</td>\n",
       "      <td>Beverages</td>\n",
       "      <td>Specialty Biscuits, Ltd.</td>\n",
       "      <td>UK</td>\n",
       "      <td>/</td>\n",
       "    </tr>\n",
       "    <tr>\n",
       "      <th>1</th>\n",
       "      <td>2</td>\n",
       "      <td>Chang</td>\n",
       "      <td>24 - 12 oz bottles</td>\n",
       "      <td>19.0</td>\n",
       "      <td>17</td>\n",
       "      <td>40</td>\n",
       "      <td>25.0</td>\n",
       "      <td>1</td>\n",
       "      <td>Beverages</td>\n",
       "      <td>Exotic Liquids</td>\n",
       "      <td>UK</td>\n",
       "      <td>NaN</td>\n",
       "    </tr>\n",
       "    <tr>\n",
       "      <th>2</th>\n",
       "      <td>2</td>\n",
       "      <td>Chang</td>\n",
       "      <td>24 - 12 oz bottles</td>\n",
       "      <td>19.0</td>\n",
       "      <td>17</td>\n",
       "      <td>40</td>\n",
       "      <td>25.0</td>\n",
       "      <td>1</td>\n",
       "      <td>Beverages</td>\n",
       "      <td>Exotic Liquids</td>\n",
       "      <td>UK</td>\n",
       "      <td>NaN</td>\n",
       "    </tr>\n",
       "    <tr>\n",
       "      <th>3</th>\n",
       "      <td>3</td>\n",
       "      <td>Aniseed Syrup</td>\n",
       "      <td>12 - 550 ml bottles</td>\n",
       "      <td>10.0</td>\n",
       "      <td>13</td>\n",
       "      <td>70</td>\n",
       "      <td>25.0</td>\n",
       "      <td>0</td>\n",
       "      <td>Condiments</td>\n",
       "      <td>Exotic Liquids</td>\n",
       "      <td>UK</td>\n",
       "      <td>\"\"</td>\n",
       "    </tr>\n",
       "  </tbody>\n",
       "</table>\n",
       "</div>"
      ],
      "text/plain": [
       "   product_id   product_name    quantity_per_unit  unit_price  units_in_stock  \\\n",
       "0           1           Chai   10 boxes x 30 bags        18.0              39   \n",
       "1           2          Chang   24 - 12 oz bottles        19.0              17   \n",
       "2           2          Chang   24 - 12 oz bottles        19.0              17   \n",
       "3           3  Aniseed Syrup  12 - 550 ml bottles        10.0              13   \n",
       "\n",
       "   units_on_order  reorder_level  discontinued category_name  \\\n",
       "0               0           10.0             1     Beverages   \n",
       "1              40           25.0             1     Beverages   \n",
       "2              40           25.0             1     Beverages   \n",
       "3              70           25.0             0    Condiments   \n",
       "\n",
       "               company_name country website  \n",
       "0  Specialty Biscuits, Ltd.      UK       /  \n",
       "1            Exotic Liquids      UK     NaN  \n",
       "2            Exotic Liquids      UK     NaN  \n",
       "3            Exotic Liquids      UK      \"\"  "
      ]
     },
     "execution_count": 7,
     "metadata": {},
     "output_type": "execute_result"
    }
   ],
   "source": [
    "northwind_df.head(4)"
   ]
  },
  {
   "cell_type": "markdown",
   "id": "32cf7fe2-ca65-4c04-b029-ccb64a2e3fd9",
   "metadata": {},
   "source": [
    "### 2. Calculate how many rows and columns are in this file."
   ]
  },
  {
   "cell_type": "code",
   "execution_count": 24,
   "id": "21fe2284-20e0-4387-b0d9-299a8f702c8f",
   "metadata": {},
   "outputs": [
    {
     "name": "stdout",
     "output_type": "stream",
     "text": [
      "There are 78 rows in the Northwind dataframe.\n",
      "There are 12 columns in the Northwind dataframe.\n"
     ]
    }
   ],
   "source": [
    "df_rows = northwind_df.index.size\n",
    "df_columns = northwind_df.columns.size\n",
    "\n",
    "print(f\"There are {df_rows} rows in the Northwind dataframe.\")\n",
    "print(f\"There are {df_columns} columns in the Northwind dataframe.\")"
   ]
  },
  {
   "cell_type": "code",
   "execution_count": 23,
   "id": "8faee0e6-eeba-4233-8c27-e120bfcbf7b0",
   "metadata": {},
   "outputs": [
    {
     "name": "stdout",
     "output_type": "stream",
     "text": [
      "<class 'pandas.core.frame.DataFrame'>\n",
      "RangeIndex: 78 entries, 0 to 77\n",
      "Data columns (total 12 columns):\n",
      " #   Column             Non-Null Count  Dtype  \n",
      "---  ------             --------------  -----  \n",
      " 0   product_id         78 non-null     int64  \n",
      " 1   product_name       78 non-null     object \n",
      " 2   quantity_per_unit  78 non-null     object \n",
      " 3   unit_price         78 non-null     float64\n",
      " 4   units_in_stock     78 non-null     int64  \n",
      " 5   units_on_order     78 non-null     int64  \n",
      " 6   reorder_level      76 non-null     float64\n",
      " 7   discontinued       78 non-null     int64  \n",
      " 8   category_name      78 non-null     object \n",
      " 9   company_name       78 non-null     object \n",
      " 10  country            78 non-null     object \n",
      " 11  website            6 non-null      object \n",
      "dtypes: float64(2), int64(4), object(6)\n",
      "memory usage: 7.4+ KB\n"
     ]
    }
   ],
   "source": [
    "# Double check using the info method\n",
    "northwind_df.info()"
   ]
  },
  {
   "cell_type": "markdown",
   "id": "31e4bcc2-a120-489f-838d-115ab630dd2c",
   "metadata": {},
   "source": [
    "### 3. What’s the maximum unit_price?"
   ]
  },
  {
   "cell_type": "code",
   "execution_count": 33,
   "id": "7a7e4fb6-db31-419d-bbf9-dcfa59e438c9",
   "metadata": {},
   "outputs": [
    {
     "name": "stdout",
     "output_type": "stream",
     "text": [
      "The maximum value in the unit_price column is: $263.5\n"
     ]
    }
   ],
   "source": [
    "max_unit_price = northwind_df['unit_price'].max()\n",
    "\n",
    "print(f\"The maximum value in the unit_price column is: ${max_unit_price}\")"
   ]
  },
  {
   "cell_type": "code",
   "execution_count": 32,
   "id": "2b686c50-d34f-4dd6-b735-8289156b1e7c",
   "metadata": {},
   "outputs": [
    {
     "data": {
      "text/plain": [
       "263.5"
      ]
     },
     "execution_count": 32,
     "metadata": {},
     "output_type": "execute_result"
    }
   ],
   "source": [
    "# Alternative solution\n",
    "northwind_df.describe().loc['max', 'unit_price']"
   ]
  },
  {
   "cell_type": "markdown",
   "id": "e34029b7-da3d-43d2-9f9f-8cdb10e9fd6d",
   "metadata": {},
   "source": [
    "### 4. Use describe() to get the descriptive statistics for this file."
   ]
  },
  {
   "cell_type": "code",
   "execution_count": 34,
   "id": "b4d379d5-0820-45d7-be09-80d8d8f0d8f8",
   "metadata": {},
   "outputs": [
    {
     "data": {
      "text/html": [
       "<div>\n",
       "<style scoped>\n",
       "    .dataframe tbody tr th:only-of-type {\n",
       "        vertical-align: middle;\n",
       "    }\n",
       "\n",
       "    .dataframe tbody tr th {\n",
       "        vertical-align: top;\n",
       "    }\n",
       "\n",
       "    .dataframe thead th {\n",
       "        text-align: right;\n",
       "    }\n",
       "</style>\n",
       "<table border=\"1\" class=\"dataframe\">\n",
       "  <thead>\n",
       "    <tr style=\"text-align: right;\">\n",
       "      <th></th>\n",
       "      <th>product_id</th>\n",
       "      <th>unit_price</th>\n",
       "      <th>units_in_stock</th>\n",
       "      <th>units_on_order</th>\n",
       "      <th>reorder_level</th>\n",
       "      <th>discontinued</th>\n",
       "    </tr>\n",
       "  </thead>\n",
       "  <tbody>\n",
       "    <tr>\n",
       "      <th>count</th>\n",
       "      <td>78.000000</td>\n",
       "      <td>78.000000</td>\n",
       "      <td>78.000000</td>\n",
       "      <td>78.000000</td>\n",
       "      <td>76.000000</td>\n",
       "      <td>78.000000</td>\n",
       "    </tr>\n",
       "    <tr>\n",
       "      <th>mean</th>\n",
       "      <td>38.525641</td>\n",
       "      <td>28.707821</td>\n",
       "      <td>40.205128</td>\n",
       "      <td>10.512821</td>\n",
       "      <td>12.631579</td>\n",
       "      <td>0.141026</td>\n",
       "    </tr>\n",
       "    <tr>\n",
       "      <th>std</th>\n",
       "      <td>22.617499</td>\n",
       "      <td>33.627362</td>\n",
       "      <td>36.010229</td>\n",
       "      <td>23.237757</td>\n",
       "      <td>10.907908</td>\n",
       "      <td>0.350301</td>\n",
       "    </tr>\n",
       "    <tr>\n",
       "      <th>min</th>\n",
       "      <td>1.000000</td>\n",
       "      <td>2.500000</td>\n",
       "      <td>0.000000</td>\n",
       "      <td>0.000000</td>\n",
       "      <td>0.000000</td>\n",
       "      <td>0.000000</td>\n",
       "    </tr>\n",
       "    <tr>\n",
       "      <th>25%</th>\n",
       "      <td>19.250000</td>\n",
       "      <td>13.062500</td>\n",
       "      <td>15.000000</td>\n",
       "      <td>0.000000</td>\n",
       "      <td>0.000000</td>\n",
       "      <td>0.000000</td>\n",
       "    </tr>\n",
       "    <tr>\n",
       "      <th>50%</th>\n",
       "      <td>38.500000</td>\n",
       "      <td>19.475000</td>\n",
       "      <td>26.000000</td>\n",
       "      <td>0.000000</td>\n",
       "      <td>12.500000</td>\n",
       "      <td>0.000000</td>\n",
       "    </tr>\n",
       "    <tr>\n",
       "      <th>75%</th>\n",
       "      <td>57.750000</td>\n",
       "      <td>33.137500</td>\n",
       "      <td>60.000000</td>\n",
       "      <td>0.000000</td>\n",
       "      <td>25.000000</td>\n",
       "      <td>0.000000</td>\n",
       "    </tr>\n",
       "    <tr>\n",
       "      <th>max</th>\n",
       "      <td>77.000000</td>\n",
       "      <td>263.500000</td>\n",
       "      <td>125.000000</td>\n",
       "      <td>100.000000</td>\n",
       "      <td>30.000000</td>\n",
       "      <td>1.000000</td>\n",
       "    </tr>\n",
       "  </tbody>\n",
       "</table>\n",
       "</div>"
      ],
      "text/plain": [
       "       product_id  unit_price  units_in_stock  units_on_order  reorder_level  \\\n",
       "count   78.000000   78.000000       78.000000       78.000000      76.000000   \n",
       "mean    38.525641   28.707821       40.205128       10.512821      12.631579   \n",
       "std     22.617499   33.627362       36.010229       23.237757      10.907908   \n",
       "min      1.000000    2.500000        0.000000        0.000000       0.000000   \n",
       "25%     19.250000   13.062500       15.000000        0.000000       0.000000   \n",
       "50%     38.500000   19.475000       26.000000        0.000000      12.500000   \n",
       "75%     57.750000   33.137500       60.000000        0.000000      25.000000   \n",
       "max     77.000000  263.500000      125.000000      100.000000      30.000000   \n",
       "\n",
       "       discontinued  \n",
       "count     78.000000  \n",
       "mean       0.141026  \n",
       "std        0.350301  \n",
       "min        0.000000  \n",
       "25%        0.000000  \n",
       "50%        0.000000  \n",
       "75%        0.000000  \n",
       "max        1.000000  "
      ]
     },
     "execution_count": 34,
     "metadata": {},
     "output_type": "execute_result"
    }
   ],
   "source": [
    "northwind_df.describe()"
   ]
  },
  {
   "cell_type": "markdown",
   "id": "944117c6-b19d-493f-8522-cb3c9a5eac70",
   "metadata": {},
   "source": [
    "### 5. Replace any NULL values in reorder_level with 0."
   ]
  },
  {
   "cell_type": "code",
   "execution_count": null,
   "id": "b2b3c1a2-8cac-42d5-9658-da6164d9d4b4",
   "metadata": {},
   "outputs": [],
   "source": []
  },
  {
   "cell_type": "markdown",
   "id": "d93bd110-d8ce-4795-89c9-9e227e5dd347",
   "metadata": {},
   "source": [
    "### 6. Remove duplicate rows."
   ]
  },
  {
   "cell_type": "code",
   "execution_count": null,
   "id": "4dcba7b7-6f93-4997-ae48-f5fff91a99f0",
   "metadata": {},
   "outputs": [],
   "source": []
  },
  {
   "cell_type": "markdown",
   "id": "980c5dc9-0462-47b3-8305-901586b2acb9",
   "metadata": {},
   "source": [
    "### 7. Change \"Gustaf's Kn√§ckebr√∂d\" To \"Gustaf's Knäckebröd\"."
   ]
  },
  {
   "cell_type": "code",
   "execution_count": null,
   "id": "351e7565-8a27-495c-9c4d-5b3e98bcfcf9",
   "metadata": {},
   "outputs": [],
   "source": []
  },
  {
   "cell_type": "markdown",
   "id": "c5078e47-00a1-401e-a1e3-4e37e856eb03",
   "metadata": {},
   "source": [
    "### 8. Remove the column for website."
   ]
  },
  {
   "cell_type": "code",
   "execution_count": null,
   "id": "9136f0c1-b0a7-4fa4-8bcb-12e72134547b",
   "metadata": {},
   "outputs": [],
   "source": []
  },
  {
   "cell_type": "markdown",
   "id": "ab2cdd0d-e09d-40a9-bd4d-6b8549b43df5",
   "metadata": {},
   "source": [
    "### 9. Create a crosstab, with category_name in rows and country in columns."
   ]
  },
  {
   "cell_type": "code",
   "execution_count": null,
   "id": "c6ad223e-eef7-49d5-b14c-8034a283628d",
   "metadata": {},
   "outputs": [],
   "source": []
  },
  {
   "cell_type": "markdown",
   "id": "fddc65cd-4604-4ed3-95f3-74fff1000587",
   "metadata": {},
   "source": [
    "### 10. Create a pivot table with average unit_price by category."
   ]
  },
  {
   "cell_type": "code",
   "execution_count": null,
   "id": "c88b9599-1fe0-4795-a71d-b8588148d449",
   "metadata": {},
   "outputs": [],
   "source": []
  },
  {
   "cell_type": "markdown",
   "id": "97cfbe32-6d05-4812-9773-bac65ef02bc3",
   "metadata": {},
   "source": [
    "### 11. Create a pivot table with average reorder_level  by category (rows) and country (columns)."
   ]
  },
  {
   "cell_type": "code",
   "execution_count": null,
   "id": "774ff9a6-bc27-4e6b-a93d-24ac616c40fb",
   "metadata": {},
   "outputs": [],
   "source": []
  },
  {
   "cell_type": "markdown",
   "id": "ccee7448-a635-44d1-ab96-b80c25f0deaa",
   "metadata": {},
   "source": [
    "### 12. Create a groupby table with sum of discontinued products by company name."
   ]
  },
  {
   "cell_type": "code",
   "execution_count": null,
   "id": "a54fcedd-d6fe-46da-8349-080192c8dcc9",
   "metadata": {},
   "outputs": [],
   "source": []
  },
  {
   "cell_type": "markdown",
   "id": "9e4aee05-b745-4f34-8cc0-f7ce196a21c9",
   "metadata": {},
   "source": [
    "### 13. Create a groupby table with maximum unit_price by country and category (both in rows)."
   ]
  },
  {
   "cell_type": "code",
   "execution_count": null,
   "id": "ebdd3237-8ea6-4deb-bc5c-f04c02273477",
   "metadata": {},
   "outputs": [],
   "source": []
  }
 ],
 "metadata": {
  "kernelspec": {
   "display_name": "Python 3 (ipykernel)",
   "language": "python",
   "name": "python3"
  },
  "language_info": {
   "codemirror_mode": {
    "name": "ipython",
    "version": 3
   },
   "file_extension": ".py",
   "mimetype": "text/x-python",
   "name": "python",
   "nbconvert_exporter": "python",
   "pygments_lexer": "ipython3",
   "version": "3.10.9"
  }
 },
 "nbformat": 4,
 "nbformat_minor": 5
}
