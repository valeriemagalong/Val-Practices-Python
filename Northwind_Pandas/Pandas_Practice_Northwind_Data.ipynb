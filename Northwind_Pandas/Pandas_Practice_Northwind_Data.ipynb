{
 "cells": [
  {
   "cell_type": "markdown",
   "id": "576f6642-3243-4c87-827b-2026f70a800c",
   "metadata": {},
   "source": [
    "# Cleaning & Transforming Data with Pandas"
   ]
  },
  {
   "cell_type": "markdown",
   "id": "60853566-ef27-4d0e-84b2-873d6fc5bd91",
   "metadata": {},
   "source": [
    "## Northwind Traders dataset (small subset)"
   ]
  },
  {
   "cell_type": "markdown",
   "id": "6b317356-f6ca-401f-b30a-561ea7b5c184",
   "metadata": {},
   "source": [
    "---"
   ]
  },
  {
   "cell_type": "code",
   "execution_count": 1,
   "id": "438e4d79-39b6-4e9b-9711-7c1de4b1ffca",
   "metadata": {},
   "outputs": [],
   "source": [
    "import pandas as pd\n",
    "\n",
    "# Read xlsx data into new dataframe\n",
    "original_df = pd.read_excel(\"https://github.com/valeriemagalong/Val-Practices-Python/raw/main/Northwind_Pandas/Northwind_products_suppliers.xlsx\")\n",
    "\n",
    "# Make copy of original_df for later transformation\n",
    "nw_df = original_df.copy()"
   ]
  },
  {
   "cell_type": "markdown",
   "id": "66b7652f-69a8-4dc5-a7ce-b49aad4ad656",
   "metadata": {},
   "source": [
    "___"
   ]
  },
  {
   "cell_type": "markdown",
   "id": "c15de8cd-58ad-4a7e-9363-e067c8be8926",
   "metadata": {},
   "source": [
    "### 1. What data is in the first 4 rows?"
   ]
  },
  {
   "cell_type": "code",
   "execution_count": 2,
   "id": "331e366a-5e74-4a55-95bd-4b4a2990d988",
   "metadata": {},
   "outputs": [
    {
     "data": {
      "text/html": [
       "<div>\n",
       "<style scoped>\n",
       "    .dataframe tbody tr th:only-of-type {\n",
       "        vertical-align: middle;\n",
       "    }\n",
       "\n",
       "    .dataframe tbody tr th {\n",
       "        vertical-align: top;\n",
       "    }\n",
       "\n",
       "    .dataframe thead th {\n",
       "        text-align: right;\n",
       "    }\n",
       "</style>\n",
       "<table border=\"1\" class=\"dataframe\">\n",
       "  <thead>\n",
       "    <tr style=\"text-align: right;\">\n",
       "      <th></th>\n",
       "      <th>product_id</th>\n",
       "      <th>product_name</th>\n",
       "      <th>quantity_per_unit</th>\n",
       "      <th>unit_price</th>\n",
       "      <th>units_in_stock</th>\n",
       "      <th>units_on_order</th>\n",
       "      <th>reorder_level</th>\n",
       "      <th>discontinued</th>\n",
       "      <th>category_name</th>\n",
       "      <th>company_name</th>\n",
       "      <th>country</th>\n",
       "      <th>website</th>\n",
       "    </tr>\n",
       "  </thead>\n",
       "  <tbody>\n",
       "    <tr>\n",
       "      <th>0</th>\n",
       "      <td>1</td>\n",
       "      <td>Chai</td>\n",
       "      <td>10 boxes x 30 bags</td>\n",
       "      <td>18.0</td>\n",
       "      <td>39</td>\n",
       "      <td>0</td>\n",
       "      <td>10.0</td>\n",
       "      <td>1</td>\n",
       "      <td>Beverages</td>\n",
       "      <td>Specialty Biscuits, Ltd.</td>\n",
       "      <td>UK</td>\n",
       "      <td>/</td>\n",
       "    </tr>\n",
       "    <tr>\n",
       "      <th>1</th>\n",
       "      <td>2</td>\n",
       "      <td>Chang</td>\n",
       "      <td>24 - 12 oz bottles</td>\n",
       "      <td>19.0</td>\n",
       "      <td>17</td>\n",
       "      <td>40</td>\n",
       "      <td>25.0</td>\n",
       "      <td>1</td>\n",
       "      <td>Beverages</td>\n",
       "      <td>Exotic Liquids</td>\n",
       "      <td>UK</td>\n",
       "      <td>NaN</td>\n",
       "    </tr>\n",
       "    <tr>\n",
       "      <th>2</th>\n",
       "      <td>2</td>\n",
       "      <td>Chang</td>\n",
       "      <td>24 - 12 oz bottles</td>\n",
       "      <td>19.0</td>\n",
       "      <td>17</td>\n",
       "      <td>40</td>\n",
       "      <td>25.0</td>\n",
       "      <td>1</td>\n",
       "      <td>Beverages</td>\n",
       "      <td>Exotic Liquids</td>\n",
       "      <td>UK</td>\n",
       "      <td>NaN</td>\n",
       "    </tr>\n",
       "    <tr>\n",
       "      <th>3</th>\n",
       "      <td>3</td>\n",
       "      <td>Aniseed Syrup</td>\n",
       "      <td>12 - 550 ml bottles</td>\n",
       "      <td>10.0</td>\n",
       "      <td>13</td>\n",
       "      <td>70</td>\n",
       "      <td>25.0</td>\n",
       "      <td>0</td>\n",
       "      <td>Condiments</td>\n",
       "      <td>Exotic Liquids</td>\n",
       "      <td>UK</td>\n",
       "      <td>\"\"</td>\n",
       "    </tr>\n",
       "  </tbody>\n",
       "</table>\n",
       "</div>"
      ],
      "text/plain": [
       "   product_id   product_name    quantity_per_unit  unit_price  units_in_stock  \\\n",
       "0           1           Chai   10 boxes x 30 bags        18.0              39   \n",
       "1           2          Chang   24 - 12 oz bottles        19.0              17   \n",
       "2           2          Chang   24 - 12 oz bottles        19.0              17   \n",
       "3           3  Aniseed Syrup  12 - 550 ml bottles        10.0              13   \n",
       "\n",
       "   units_on_order  reorder_level  discontinued category_name  \\\n",
       "0               0           10.0             1     Beverages   \n",
       "1              40           25.0             1     Beverages   \n",
       "2              40           25.0             1     Beverages   \n",
       "3              70           25.0             0    Condiments   \n",
       "\n",
       "               company_name country website  \n",
       "0  Specialty Biscuits, Ltd.      UK       /  \n",
       "1            Exotic Liquids      UK     NaN  \n",
       "2            Exotic Liquids      UK     NaN  \n",
       "3            Exotic Liquids      UK      \"\"  "
      ]
     },
     "execution_count": 2,
     "metadata": {},
     "output_type": "execute_result"
    }
   ],
   "source": [
    "nw_df.head(4)"
   ]
  },
  {
   "cell_type": "markdown",
   "id": "0db0f727-f0ee-4935-9d6c-6db62d56e1f2",
   "metadata": {},
   "source": [
    "___"
   ]
  },
  {
   "cell_type": "markdown",
   "id": "32cf7fe2-ca65-4c04-b029-ccb64a2e3fd9",
   "metadata": {},
   "source": [
    "### 2. Calculate how many rows and columns are in this file."
   ]
  },
  {
   "cell_type": "code",
   "execution_count": 3,
   "id": "21fe2284-20e0-4387-b0d9-299a8f702c8f",
   "metadata": {},
   "outputs": [
    {
     "name": "stdout",
     "output_type": "stream",
     "text": [
      "There are 78 rows in the Northwind dataframe.\n",
      "There are 12 columns in the Northwind dataframe.\n"
     ]
    }
   ],
   "source": [
    "df_rows = nw_df.index.size\n",
    "df_columns = nw_df.columns.size\n",
    "\n",
    "print(f\"There are {df_rows} rows in the Northwind dataframe.\")\n",
    "print(f\"There are {df_columns} columns in the Northwind dataframe.\")"
   ]
  },
  {
   "cell_type": "code",
   "execution_count": 4,
   "id": "8faee0e6-eeba-4233-8c27-e120bfcbf7b0",
   "metadata": {},
   "outputs": [
    {
     "name": "stdout",
     "output_type": "stream",
     "text": [
      "<class 'pandas.core.frame.DataFrame'>\n",
      "RangeIndex: 78 entries, 0 to 77\n",
      "Data columns (total 12 columns):\n",
      " #   Column             Non-Null Count  Dtype  \n",
      "---  ------             --------------  -----  \n",
      " 0   product_id         78 non-null     int64  \n",
      " 1   product_name       78 non-null     object \n",
      " 2   quantity_per_unit  78 non-null     object \n",
      " 3   unit_price         78 non-null     float64\n",
      " 4   units_in_stock     78 non-null     int64  \n",
      " 5   units_on_order     78 non-null     int64  \n",
      " 6   reorder_level      76 non-null     float64\n",
      " 7   discontinued       78 non-null     int64  \n",
      " 8   category_name      78 non-null     object \n",
      " 9   company_name       78 non-null     object \n",
      " 10  country            78 non-null     object \n",
      " 11  website            6 non-null      object \n",
      "dtypes: float64(2), int64(4), object(6)\n",
      "memory usage: 7.4+ KB\n"
     ]
    }
   ],
   "source": [
    "# Double check using the info method\n",
    "nw_df.info()"
   ]
  },
  {
   "cell_type": "markdown",
   "id": "c3ca2f41-9e00-4882-ac20-6d673356bc8a",
   "metadata": {},
   "source": [
    "___"
   ]
  },
  {
   "cell_type": "markdown",
   "id": "31e4bcc2-a120-489f-838d-115ab630dd2c",
   "metadata": {},
   "source": [
    "### 3. What’s the maximum unit_price?"
   ]
  },
  {
   "cell_type": "code",
   "execution_count": 5,
   "id": "7a7e4fb6-db31-419d-bbf9-dcfa59e438c9",
   "metadata": {},
   "outputs": [
    {
     "name": "stdout",
     "output_type": "stream",
     "text": [
      "The maximum value in the unit_price column is: $263.5\n"
     ]
    }
   ],
   "source": [
    "max_unit_price = nw_df['unit_price'].max()\n",
    "\n",
    "print(f\"The maximum value in the unit_price column is: ${max_unit_price}\")"
   ]
  },
  {
   "cell_type": "code",
   "execution_count": 6,
   "id": "2b686c50-d34f-4dd6-b735-8289156b1e7c",
   "metadata": {},
   "outputs": [
    {
     "data": {
      "text/plain": [
       "263.5"
      ]
     },
     "execution_count": 6,
     "metadata": {},
     "output_type": "execute_result"
    }
   ],
   "source": [
    "# Alternative solution\n",
    "nw_df.describe().loc['max', 'unit_price']"
   ]
  },
  {
   "cell_type": "markdown",
   "id": "86f95306-632f-4f8b-a4a4-6a134e70346c",
   "metadata": {},
   "source": [
    "___"
   ]
  },
  {
   "cell_type": "markdown",
   "id": "e34029b7-da3d-43d2-9f9f-8cdb10e9fd6d",
   "metadata": {},
   "source": [
    "### 4. Use describe() to get the descriptive statistics for this file."
   ]
  },
  {
   "cell_type": "code",
   "execution_count": 7,
   "id": "b4d379d5-0820-45d7-be09-80d8d8f0d8f8",
   "metadata": {},
   "outputs": [
    {
     "data": {
      "text/html": [
       "<div>\n",
       "<style scoped>\n",
       "    .dataframe tbody tr th:only-of-type {\n",
       "        vertical-align: middle;\n",
       "    }\n",
       "\n",
       "    .dataframe tbody tr th {\n",
       "        vertical-align: top;\n",
       "    }\n",
       "\n",
       "    .dataframe thead th {\n",
       "        text-align: right;\n",
       "    }\n",
       "</style>\n",
       "<table border=\"1\" class=\"dataframe\">\n",
       "  <thead>\n",
       "    <tr style=\"text-align: right;\">\n",
       "      <th></th>\n",
       "      <th>product_id</th>\n",
       "      <th>unit_price</th>\n",
       "      <th>units_in_stock</th>\n",
       "      <th>units_on_order</th>\n",
       "      <th>reorder_level</th>\n",
       "      <th>discontinued</th>\n",
       "    </tr>\n",
       "  </thead>\n",
       "  <tbody>\n",
       "    <tr>\n",
       "      <th>count</th>\n",
       "      <td>78.000000</td>\n",
       "      <td>78.000000</td>\n",
       "      <td>78.000000</td>\n",
       "      <td>78.000000</td>\n",
       "      <td>76.000000</td>\n",
       "      <td>78.000000</td>\n",
       "    </tr>\n",
       "    <tr>\n",
       "      <th>mean</th>\n",
       "      <td>38.525641</td>\n",
       "      <td>28.707821</td>\n",
       "      <td>40.205128</td>\n",
       "      <td>10.512821</td>\n",
       "      <td>12.631579</td>\n",
       "      <td>0.141026</td>\n",
       "    </tr>\n",
       "    <tr>\n",
       "      <th>std</th>\n",
       "      <td>22.617499</td>\n",
       "      <td>33.627362</td>\n",
       "      <td>36.010229</td>\n",
       "      <td>23.237757</td>\n",
       "      <td>10.907908</td>\n",
       "      <td>0.350301</td>\n",
       "    </tr>\n",
       "    <tr>\n",
       "      <th>min</th>\n",
       "      <td>1.000000</td>\n",
       "      <td>2.500000</td>\n",
       "      <td>0.000000</td>\n",
       "      <td>0.000000</td>\n",
       "      <td>0.000000</td>\n",
       "      <td>0.000000</td>\n",
       "    </tr>\n",
       "    <tr>\n",
       "      <th>25%</th>\n",
       "      <td>19.250000</td>\n",
       "      <td>13.062500</td>\n",
       "      <td>15.000000</td>\n",
       "      <td>0.000000</td>\n",
       "      <td>0.000000</td>\n",
       "      <td>0.000000</td>\n",
       "    </tr>\n",
       "    <tr>\n",
       "      <th>50%</th>\n",
       "      <td>38.500000</td>\n",
       "      <td>19.475000</td>\n",
       "      <td>26.000000</td>\n",
       "      <td>0.000000</td>\n",
       "      <td>12.500000</td>\n",
       "      <td>0.000000</td>\n",
       "    </tr>\n",
       "    <tr>\n",
       "      <th>75%</th>\n",
       "      <td>57.750000</td>\n",
       "      <td>33.137500</td>\n",
       "      <td>60.000000</td>\n",
       "      <td>0.000000</td>\n",
       "      <td>25.000000</td>\n",
       "      <td>0.000000</td>\n",
       "    </tr>\n",
       "    <tr>\n",
       "      <th>max</th>\n",
       "      <td>77.000000</td>\n",
       "      <td>263.500000</td>\n",
       "      <td>125.000000</td>\n",
       "      <td>100.000000</td>\n",
       "      <td>30.000000</td>\n",
       "      <td>1.000000</td>\n",
       "    </tr>\n",
       "  </tbody>\n",
       "</table>\n",
       "</div>"
      ],
      "text/plain": [
       "       product_id  unit_price  units_in_stock  units_on_order  reorder_level  \\\n",
       "count   78.000000   78.000000       78.000000       78.000000      76.000000   \n",
       "mean    38.525641   28.707821       40.205128       10.512821      12.631579   \n",
       "std     22.617499   33.627362       36.010229       23.237757      10.907908   \n",
       "min      1.000000    2.500000        0.000000        0.000000       0.000000   \n",
       "25%     19.250000   13.062500       15.000000        0.000000       0.000000   \n",
       "50%     38.500000   19.475000       26.000000        0.000000      12.500000   \n",
       "75%     57.750000   33.137500       60.000000        0.000000      25.000000   \n",
       "max     77.000000  263.500000      125.000000      100.000000      30.000000   \n",
       "\n",
       "       discontinued  \n",
       "count     78.000000  \n",
       "mean       0.141026  \n",
       "std        0.350301  \n",
       "min        0.000000  \n",
       "25%        0.000000  \n",
       "50%        0.000000  \n",
       "75%        0.000000  \n",
       "max        1.000000  "
      ]
     },
     "execution_count": 7,
     "metadata": {},
     "output_type": "execute_result"
    }
   ],
   "source": [
    "nw_df.describe()"
   ]
  },
  {
   "cell_type": "markdown",
   "id": "d20e674c-deb0-466d-979d-7346626eb32c",
   "metadata": {},
   "source": [
    "___"
   ]
  },
  {
   "cell_type": "markdown",
   "id": "944117c6-b19d-493f-8522-cb3c9a5eac70",
   "metadata": {},
   "source": [
    "### 5. Replace any NULL values in reorder_level with 0."
   ]
  },
  {
   "cell_type": "code",
   "execution_count": 8,
   "id": "b2b3c1a2-8cac-42d5-9658-da6164d9d4b4",
   "metadata": {},
   "outputs": [
    {
     "data": {
      "text/html": [
       "<div>\n",
       "<style scoped>\n",
       "    .dataframe tbody tr th:only-of-type {\n",
       "        vertical-align: middle;\n",
       "    }\n",
       "\n",
       "    .dataframe tbody tr th {\n",
       "        vertical-align: top;\n",
       "    }\n",
       "\n",
       "    .dataframe thead th {\n",
       "        text-align: right;\n",
       "    }\n",
       "</style>\n",
       "<table border=\"1\" class=\"dataframe\">\n",
       "  <thead>\n",
       "    <tr style=\"text-align: right;\">\n",
       "      <th></th>\n",
       "      <th>product_id</th>\n",
       "      <th>product_name</th>\n",
       "      <th>quantity_per_unit</th>\n",
       "      <th>unit_price</th>\n",
       "      <th>units_in_stock</th>\n",
       "      <th>units_on_order</th>\n",
       "      <th>reorder_level</th>\n",
       "      <th>discontinued</th>\n",
       "      <th>category_name</th>\n",
       "      <th>company_name</th>\n",
       "      <th>country</th>\n",
       "      <th>website</th>\n",
       "    </tr>\n",
       "  </thead>\n",
       "  <tbody>\n",
       "    <tr>\n",
       "      <th>6</th>\n",
       "      <td>6</td>\n",
       "      <td>Grandma's Boysenberry Spread</td>\n",
       "      <td>12 - 8 oz jars</td>\n",
       "      <td>25.0</td>\n",
       "      <td>120</td>\n",
       "      <td>0</td>\n",
       "      <td>NaN</td>\n",
       "      <td>0</td>\n",
       "      <td>Condiments</td>\n",
       "      <td>Grandma Kelly's Homestead</td>\n",
       "      <td>USA</td>\n",
       "      <td>2ww</td>\n",
       "    </tr>\n",
       "    <tr>\n",
       "      <th>24</th>\n",
       "      <td>71</td>\n",
       "      <td>Flotemysost</td>\n",
       "      <td>10 - 500 g pkgs.</td>\n",
       "      <td>21.5</td>\n",
       "      <td>26</td>\n",
       "      <td>0</td>\n",
       "      <td>NaN</td>\n",
       "      <td>0</td>\n",
       "      <td>Dairy Products</td>\n",
       "      <td>Norske Meierier</td>\n",
       "      <td>Norway</td>\n",
       "      <td>W</td>\n",
       "    </tr>\n",
       "  </tbody>\n",
       "</table>\n",
       "</div>"
      ],
      "text/plain": [
       "    product_id                  product_name quantity_per_unit  unit_price  \\\n",
       "6            6  Grandma's Boysenberry Spread    12 - 8 oz jars        25.0   \n",
       "24          71                   Flotemysost  10 - 500 g pkgs.        21.5   \n",
       "\n",
       "    units_in_stock  units_on_order  reorder_level  discontinued  \\\n",
       "6              120               0            NaN             0   \n",
       "24              26               0            NaN             0   \n",
       "\n",
       "     category_name               company_name country website  \n",
       "6       Condiments  Grandma Kelly's Homestead     USA     2ww  \n",
       "24  Dairy Products            Norske Meierier  Norway       W  "
      ]
     },
     "execution_count": 8,
     "metadata": {},
     "output_type": "execute_result"
    }
   ],
   "source": [
    "# Find all rows where there are NaN values in reorder_level\n",
    "nw_df.loc[nw_df['reorder_level'].isnull()]"
   ]
  },
  {
   "cell_type": "code",
   "execution_count": 9,
   "id": "d70cc517-d484-47e2-847e-8de96d38aa45",
   "metadata": {},
   "outputs": [
    {
     "name": "stdout",
     "output_type": "stream",
     "text": [
      "The current number of nulls in reorder_level is: 2\n"
     ]
    }
   ],
   "source": [
    "# Count the total NaN values in reorder_level\n",
    "total_nulls_in_reorder_level = nw_df['reorder_level'].isnull().sum()\n",
    "\n",
    "print(f\"The current number of nulls in reorder_level is: {total_nulls_in_reorder_level}\")"
   ]
  },
  {
   "cell_type": "code",
   "execution_count": 10,
   "id": "27c4453f-c60d-48c1-9b8b-4e69442b5923",
   "metadata": {},
   "outputs": [
    {
     "data": {
      "text/html": [
       "<div>\n",
       "<style scoped>\n",
       "    .dataframe tbody tr th:only-of-type {\n",
       "        vertical-align: middle;\n",
       "    }\n",
       "\n",
       "    .dataframe tbody tr th {\n",
       "        vertical-align: top;\n",
       "    }\n",
       "\n",
       "    .dataframe thead th {\n",
       "        text-align: right;\n",
       "    }\n",
       "</style>\n",
       "<table border=\"1\" class=\"dataframe\">\n",
       "  <thead>\n",
       "    <tr style=\"text-align: right;\">\n",
       "      <th></th>\n",
       "      <th>product_id</th>\n",
       "      <th>product_name</th>\n",
       "      <th>quantity_per_unit</th>\n",
       "      <th>unit_price</th>\n",
       "      <th>units_in_stock</th>\n",
       "      <th>units_on_order</th>\n",
       "      <th>reorder_level</th>\n",
       "      <th>discontinued</th>\n",
       "      <th>category_name</th>\n",
       "      <th>company_name</th>\n",
       "      <th>country</th>\n",
       "      <th>website</th>\n",
       "    </tr>\n",
       "  </thead>\n",
       "  <tbody>\n",
       "  </tbody>\n",
       "</table>\n",
       "</div>"
      ],
      "text/plain": [
       "Empty DataFrame\n",
       "Columns: [product_id, product_name, quantity_per_unit, unit_price, units_in_stock, units_on_order, reorder_level, discontinued, category_name, company_name, country, website]\n",
       "Index: []"
      ]
     },
     "execution_count": 10,
     "metadata": {},
     "output_type": "execute_result"
    }
   ],
   "source": [
    "# Replace the two NaN values in reorder_level with 0 and assign to Series reorder_level_no_nulls\n",
    "reorder_level_no_nulls = nw_df['reorder_level'].fillna(0)\n",
    "\n",
    "# Reassign reorder_level to reorder_level_no_nulls\n",
    "nw_df['reorder_level'] = reorder_level_no_nulls\n",
    "\n",
    "# When we look again for any null values in reorder_level, nothing is returned\n",
    "nw_df.loc[nw_df['reorder_level'].isnull()]"
   ]
  },
  {
   "cell_type": "code",
   "execution_count": 11,
   "id": "85158f75-3998-4a12-93d2-4b3b8b556e3c",
   "metadata": {},
   "outputs": [
    {
     "name": "stdout",
     "output_type": "stream",
     "text": [
      "The number of nulls in reorder_level is now: 0\n"
     ]
    }
   ],
   "source": [
    "# Count the total NaN values in reorder_level to double check that there are no nulls\n",
    "total_nulls_in_reorder_level = nw_df['reorder_level'].isnull().sum()\n",
    "\n",
    "print(f\"The number of nulls in reorder_level is now: {total_nulls_in_reorder_level}\")"
   ]
  },
  {
   "cell_type": "markdown",
   "id": "d27ece86-eb73-441c-95a0-2d5a9ccbd81e",
   "metadata": {},
   "source": [
    "___"
   ]
  },
  {
   "cell_type": "markdown",
   "id": "d93bd110-d8ce-4795-89c9-9e227e5dd347",
   "metadata": {},
   "source": [
    "### 6. Remove duplicate rows."
   ]
  },
  {
   "cell_type": "code",
   "execution_count": 12,
   "id": "4dcba7b7-6f93-4997-ae48-f5fff91a99f0",
   "metadata": {},
   "outputs": [
    {
     "data": {
      "text/html": [
       "<div>\n",
       "<style scoped>\n",
       "    .dataframe tbody tr th:only-of-type {\n",
       "        vertical-align: middle;\n",
       "    }\n",
       "\n",
       "    .dataframe tbody tr th {\n",
       "        vertical-align: top;\n",
       "    }\n",
       "\n",
       "    .dataframe thead th {\n",
       "        text-align: right;\n",
       "    }\n",
       "</style>\n",
       "<table border=\"1\" class=\"dataframe\">\n",
       "  <thead>\n",
       "    <tr style=\"text-align: right;\">\n",
       "      <th></th>\n",
       "      <th>product_id</th>\n",
       "      <th>product_name</th>\n",
       "      <th>quantity_per_unit</th>\n",
       "      <th>unit_price</th>\n",
       "      <th>units_in_stock</th>\n",
       "      <th>units_on_order</th>\n",
       "      <th>reorder_level</th>\n",
       "      <th>discontinued</th>\n",
       "      <th>category_name</th>\n",
       "      <th>company_name</th>\n",
       "      <th>country</th>\n",
       "      <th>website</th>\n",
       "    </tr>\n",
       "  </thead>\n",
       "  <tbody>\n",
       "    <tr>\n",
       "      <th>2</th>\n",
       "      <td>2</td>\n",
       "      <td>Chang</td>\n",
       "      <td>24 - 12 oz bottles</td>\n",
       "      <td>19.0</td>\n",
       "      <td>17</td>\n",
       "      <td>40</td>\n",
       "      <td>25.0</td>\n",
       "      <td>1</td>\n",
       "      <td>Beverages</td>\n",
       "      <td>Exotic Liquids</td>\n",
       "      <td>UK</td>\n",
       "      <td>NaN</td>\n",
       "    </tr>\n",
       "  </tbody>\n",
       "</table>\n",
       "</div>"
      ],
      "text/plain": [
       "   product_id product_name   quantity_per_unit  unit_price  units_in_stock  \\\n",
       "2           2        Chang  24 - 12 oz bottles        19.0              17   \n",
       "\n",
       "   units_on_order  reorder_level  discontinued category_name    company_name  \\\n",
       "2              40           25.0             1     Beverages  Exotic Liquids   \n",
       "\n",
       "  country website  \n",
       "2      UK     NaN  "
      ]
     },
     "execution_count": 12,
     "metadata": {},
     "output_type": "execute_result"
    }
   ],
   "source": [
    "# Find any duplicated rows\n",
    "nw_df.loc[nw_df.duplicated()]"
   ]
  },
  {
   "cell_type": "code",
   "execution_count": 13,
   "id": "0e6113cf-bb51-4555-ace4-dc62986653f1",
   "metadata": {},
   "outputs": [
    {
     "data": {
      "text/html": [
       "<div>\n",
       "<style scoped>\n",
       "    .dataframe tbody tr th:only-of-type {\n",
       "        vertical-align: middle;\n",
       "    }\n",
       "\n",
       "    .dataframe tbody tr th {\n",
       "        vertical-align: top;\n",
       "    }\n",
       "\n",
       "    .dataframe thead th {\n",
       "        text-align: right;\n",
       "    }\n",
       "</style>\n",
       "<table border=\"1\" class=\"dataframe\">\n",
       "  <thead>\n",
       "    <tr style=\"text-align: right;\">\n",
       "      <th></th>\n",
       "      <th>product_id</th>\n",
       "      <th>product_name</th>\n",
       "      <th>quantity_per_unit</th>\n",
       "      <th>unit_price</th>\n",
       "      <th>units_in_stock</th>\n",
       "      <th>units_on_order</th>\n",
       "      <th>reorder_level</th>\n",
       "      <th>discontinued</th>\n",
       "      <th>category_name</th>\n",
       "      <th>company_name</th>\n",
       "      <th>country</th>\n",
       "      <th>website</th>\n",
       "    </tr>\n",
       "  </thead>\n",
       "  <tbody>\n",
       "  </tbody>\n",
       "</table>\n",
       "</div>"
      ],
      "text/plain": [
       "Empty DataFrame\n",
       "Columns: [product_id, product_name, quantity_per_unit, unit_price, units_in_stock, units_on_order, reorder_level, discontinued, category_name, company_name, country, website]\n",
       "Index: []"
      ]
     },
     "execution_count": 13,
     "metadata": {},
     "output_type": "execute_result"
    }
   ],
   "source": [
    "# Declare new dataframe nw_df_transformed_1 with duplicate rows dropped\n",
    "nw_df_transformed_1 = nw_df.drop_duplicates()\n",
    "\n",
    "# No duplicated rows are returned from nw_df_transformed_1, so the duplicate rows were successfully removed\n",
    "nw_df_transformed_1.loc[nw_df_transformed_1.duplicated()]"
   ]
  },
  {
   "cell_type": "code",
   "execution_count": 14,
   "id": "f50fa6a3-f020-4bcb-8e6a-8d9b172f778c",
   "metadata": {},
   "outputs": [
    {
     "name": "stdout",
     "output_type": "stream",
     "text": [
      "The number of duplicates in the dataframe is now: 0.0\n"
     ]
    }
   ],
   "source": [
    "# Count the total duplicates in nw_df_transformed_1 to double check that there are no duplicates\n",
    "total_duplicates = nw_df_transformed_1.loc[nw_df_transformed_1.duplicated()].sum().sum()\n",
    "\n",
    "print(f\"The number of duplicates in the dataframe is now: {total_duplicates}\")"
   ]
  },
  {
   "cell_type": "markdown",
   "id": "c774d8b6-6343-4d56-b615-c1bd0a947754",
   "metadata": {},
   "source": [
    "___"
   ]
  },
  {
   "cell_type": "markdown",
   "id": "980c5dc9-0462-47b3-8305-901586b2acb9",
   "metadata": {},
   "source": [
    "### 7. Change \"Gustaf's Kn√§ckebr√∂d\" To \"Gustaf's Knäckebröd\"."
   ]
  },
  {
   "cell_type": "code",
   "execution_count": 15,
   "id": "351e7565-8a27-495c-9c4d-5b3e98bcfcf9",
   "metadata": {},
   "outputs": [
    {
     "data": {
      "text/html": [
       "<div>\n",
       "<style scoped>\n",
       "    .dataframe tbody tr th:only-of-type {\n",
       "        vertical-align: middle;\n",
       "    }\n",
       "\n",
       "    .dataframe tbody tr th {\n",
       "        vertical-align: top;\n",
       "    }\n",
       "\n",
       "    .dataframe thead th {\n",
       "        text-align: right;\n",
       "    }\n",
       "</style>\n",
       "<table border=\"1\" class=\"dataframe\">\n",
       "  <thead>\n",
       "    <tr style=\"text-align: right;\">\n",
       "      <th></th>\n",
       "      <th>product_id</th>\n",
       "      <th>product_name</th>\n",
       "      <th>quantity_per_unit</th>\n",
       "      <th>unit_price</th>\n",
       "      <th>units_in_stock</th>\n",
       "      <th>units_on_order</th>\n",
       "      <th>reorder_level</th>\n",
       "      <th>discontinued</th>\n",
       "      <th>category_name</th>\n",
       "      <th>company_name</th>\n",
       "      <th>country</th>\n",
       "      <th>website</th>\n",
       "    </tr>\n",
       "  </thead>\n",
       "  <tbody>\n",
       "    <tr>\n",
       "      <th>37</th>\n",
       "      <td>22</td>\n",
       "      <td>Gustaf's Kn√§ckebr√∂d</td>\n",
       "      <td>24 - 500 g pkgs.</td>\n",
       "      <td>21.0</td>\n",
       "      <td>104</td>\n",
       "      <td>0</td>\n",
       "      <td>25.0</td>\n",
       "      <td>0</td>\n",
       "      <td>Grains/Cereals</td>\n",
       "      <td>PB Kn√§ckebr√∂d AB</td>\n",
       "      <td>Sweden</td>\n",
       "      <td>NaN</td>\n",
       "    </tr>\n",
       "  </tbody>\n",
       "</table>\n",
       "</div>"
      ],
      "text/plain": [
       "    product_id           product_name quantity_per_unit  unit_price  \\\n",
       "37          22  Gustaf's Kn√§ckebr√∂d  24 - 500 g pkgs.        21.0   \n",
       "\n",
       "    units_in_stock  units_on_order  reorder_level  discontinued  \\\n",
       "37             104               0           25.0             0   \n",
       "\n",
       "     category_name        company_name country website  \n",
       "37  Grains/Cereals  PB Kn√§ckebr√∂d AB  Sweden     NaN  "
      ]
     },
     "execution_count": 15,
     "metadata": {},
     "output_type": "execute_result"
    }
   ],
   "source": [
    "# Find \"Gustaf's Kn√§ckebr√∂d\" values in the dataframe\n",
    "nw_df_transformed_1.loc[nw_df_transformed_1['product_name'] == \"Gustaf's Kn√§ckebr√∂d\"]"
   ]
  },
  {
   "cell_type": "code",
   "execution_count": 16,
   "id": "4b7069a1-502a-4d7d-a132-743cc7b60eba",
   "metadata": {},
   "outputs": [
    {
     "data": {
      "text/html": [
       "<div>\n",
       "<style scoped>\n",
       "    .dataframe tbody tr th:only-of-type {\n",
       "        vertical-align: middle;\n",
       "    }\n",
       "\n",
       "    .dataframe tbody tr th {\n",
       "        vertical-align: top;\n",
       "    }\n",
       "\n",
       "    .dataframe thead th {\n",
       "        text-align: right;\n",
       "    }\n",
       "</style>\n",
       "<table border=\"1\" class=\"dataframe\">\n",
       "  <thead>\n",
       "    <tr style=\"text-align: right;\">\n",
       "      <th></th>\n",
       "      <th>product_id</th>\n",
       "      <th>product_name</th>\n",
       "      <th>quantity_per_unit</th>\n",
       "      <th>unit_price</th>\n",
       "      <th>units_in_stock</th>\n",
       "      <th>units_on_order</th>\n",
       "      <th>reorder_level</th>\n",
       "      <th>discontinued</th>\n",
       "      <th>category_name</th>\n",
       "      <th>company_name</th>\n",
       "      <th>country</th>\n",
       "      <th>website</th>\n",
       "    </tr>\n",
       "  </thead>\n",
       "  <tbody>\n",
       "    <tr>\n",
       "      <th>37</th>\n",
       "      <td>22</td>\n",
       "      <td>Gustaf's Knäckebröd</td>\n",
       "      <td>24 - 500 g pkgs.</td>\n",
       "      <td>21.0</td>\n",
       "      <td>104</td>\n",
       "      <td>0</td>\n",
       "      <td>25.0</td>\n",
       "      <td>0</td>\n",
       "      <td>Grains/Cereals</td>\n",
       "      <td>PB Kn√§ckebr√∂d AB</td>\n",
       "      <td>Sweden</td>\n",
       "      <td>NaN</td>\n",
       "    </tr>\n",
       "  </tbody>\n",
       "</table>\n",
       "</div>"
      ],
      "text/plain": [
       "    product_id         product_name quantity_per_unit  unit_price  \\\n",
       "37          22  Gustaf's Knäckebröd  24 - 500 g pkgs.        21.0   \n",
       "\n",
       "    units_in_stock  units_on_order  reorder_level  discontinued  \\\n",
       "37             104               0           25.0             0   \n",
       "\n",
       "     category_name        company_name country website  \n",
       "37  Grains/Cereals  PB Kn√§ckebr√∂d AB  Sweden     NaN  "
      ]
     },
     "execution_count": 16,
     "metadata": {},
     "output_type": "execute_result"
    }
   ],
   "source": [
    "# Replace \"Gustaf's Kn√§ckebr√∂d\" values with \"Gustaf's Knäckebröd\"\n",
    "# Declare new dataframe nw_df_transformed_2 that contains replaced values\n",
    "nw_df_transformed_2 = nw_df_transformed_1.replace(\"Gustaf's Kn√§ckebr√∂d\", \"Gustaf's Knäckebröd\")\n",
    "\n",
    "# Find \"Gustaf's Knäckebröd\" in the nw_df_transformed_2 to confirm replacement was made\n",
    "nw_df_transformed_2.loc[nw_df_transformed_2['product_name'] == \"Gustaf's Knäckebröd\"]"
   ]
  },
  {
   "cell_type": "markdown",
   "id": "a6583819-d280-463b-a259-8114025d168c",
   "metadata": {},
   "source": [
    "---"
   ]
  },
  {
   "cell_type": "markdown",
   "id": "c5078e47-00a1-401e-a1e3-4e37e856eb03",
   "metadata": {},
   "source": [
    "### 8. Remove the column for website."
   ]
  },
  {
   "cell_type": "code",
   "execution_count": 17,
   "id": "9136f0c1-b0a7-4fa4-8bcb-12e72134547b",
   "metadata": {},
   "outputs": [
    {
     "data": {
      "text/plain": [
       "Index(['product_id', 'product_name', 'quantity_per_unit', 'unit_price',\n",
       "       'units_in_stock', 'units_on_order', 'reorder_level', 'discontinued',\n",
       "       'category_name', 'company_name', 'country'],\n",
       "      dtype='object')"
      ]
     },
     "execution_count": 17,
     "metadata": {},
     "output_type": "execute_result"
    }
   ],
   "source": [
    "# Declare new dataframe nw_df_transformed_3 where website column is dropped\n",
    "nw_df_transformed_3 = nw_df_transformed_2.drop('website', axis = 1)\n",
    "\n",
    "# Check columns in nw_df_transformed_3 to make sure there is no website column\n",
    "nw_df_transformed_3.columns"
   ]
  },
  {
   "cell_type": "markdown",
   "id": "9e3eaf8c-2ff3-48f6-8215-5ff16f5d4148",
   "metadata": {},
   "source": [
    "---"
   ]
  },
  {
   "cell_type": "markdown",
   "id": "ab2cdd0d-e09d-40a9-bd4d-6b8549b43df5",
   "metadata": {},
   "source": [
    "### 9. Create a crosstab, with category_name in rows and country in columns."
   ]
  },
  {
   "cell_type": "code",
   "execution_count": 18,
   "id": "c6ad223e-eef7-49d5-b14c-8034a283628d",
   "metadata": {},
   "outputs": [
    {
     "data": {
      "text/html": [
       "<div>\n",
       "<style scoped>\n",
       "    .dataframe tbody tr th:only-of-type {\n",
       "        vertical-align: middle;\n",
       "    }\n",
       "\n",
       "    .dataframe tbody tr th {\n",
       "        vertical-align: top;\n",
       "    }\n",
       "\n",
       "    .dataframe thead th {\n",
       "        text-align: right;\n",
       "    }\n",
       "</style>\n",
       "<table border=\"1\" class=\"dataframe\">\n",
       "  <thead>\n",
       "    <tr style=\"text-align: right;\">\n",
       "      <th>country</th>\n",
       "      <th>Australia</th>\n",
       "      <th>Brazil</th>\n",
       "      <th>Canada</th>\n",
       "      <th>Denmark</th>\n",
       "      <th>Finland</th>\n",
       "      <th>France</th>\n",
       "      <th>Germany</th>\n",
       "      <th>Italy</th>\n",
       "      <th>Japan</th>\n",
       "      <th>Netherlands</th>\n",
       "      <th>Norway</th>\n",
       "      <th>Singapore</th>\n",
       "      <th>Spain</th>\n",
       "      <th>Sweden</th>\n",
       "      <th>UK</th>\n",
       "      <th>USA</th>\n",
       "    </tr>\n",
       "    <tr>\n",
       "      <th>category_name</th>\n",
       "      <th></th>\n",
       "      <th></th>\n",
       "      <th></th>\n",
       "      <th></th>\n",
       "      <th></th>\n",
       "      <th></th>\n",
       "      <th></th>\n",
       "      <th></th>\n",
       "      <th></th>\n",
       "      <th></th>\n",
       "      <th></th>\n",
       "      <th></th>\n",
       "      <th></th>\n",
       "      <th></th>\n",
       "      <th></th>\n",
       "      <th></th>\n",
       "    </tr>\n",
       "  </thead>\n",
       "  <tbody>\n",
       "    <tr>\n",
       "      <th>Beverages</th>\n",
       "      <td>1</td>\n",
       "      <td>1</td>\n",
       "      <td>0</td>\n",
       "      <td>0</td>\n",
       "      <td>1</td>\n",
       "      <td>2</td>\n",
       "      <td>1</td>\n",
       "      <td>0</td>\n",
       "      <td>0</td>\n",
       "      <td>0</td>\n",
       "      <td>0</td>\n",
       "      <td>1</td>\n",
       "      <td>0</td>\n",
       "      <td>0</td>\n",
       "      <td>2</td>\n",
       "      <td>3</td>\n",
       "    </tr>\n",
       "    <tr>\n",
       "      <th>Condiments</th>\n",
       "      <td>1</td>\n",
       "      <td>0</td>\n",
       "      <td>1</td>\n",
       "      <td>0</td>\n",
       "      <td>0</td>\n",
       "      <td>0</td>\n",
       "      <td>1</td>\n",
       "      <td>0</td>\n",
       "      <td>1</td>\n",
       "      <td>0</td>\n",
       "      <td>0</td>\n",
       "      <td>1</td>\n",
       "      <td>0</td>\n",
       "      <td>0</td>\n",
       "      <td>1</td>\n",
       "      <td>6</td>\n",
       "    </tr>\n",
       "    <tr>\n",
       "      <th>Confections</th>\n",
       "      <td>1</td>\n",
       "      <td>0</td>\n",
       "      <td>1</td>\n",
       "      <td>0</td>\n",
       "      <td>2</td>\n",
       "      <td>0</td>\n",
       "      <td>3</td>\n",
       "      <td>0</td>\n",
       "      <td>0</td>\n",
       "      <td>2</td>\n",
       "      <td>0</td>\n",
       "      <td>0</td>\n",
       "      <td>0</td>\n",
       "      <td>0</td>\n",
       "      <td>4</td>\n",
       "      <td>0</td>\n",
       "    </tr>\n",
       "    <tr>\n",
       "      <th>Dairy Products</th>\n",
       "      <td>0</td>\n",
       "      <td>0</td>\n",
       "      <td>0</td>\n",
       "      <td>0</td>\n",
       "      <td>0</td>\n",
       "      <td>2</td>\n",
       "      <td>0</td>\n",
       "      <td>3</td>\n",
       "      <td>0</td>\n",
       "      <td>0</td>\n",
       "      <td>3</td>\n",
       "      <td>0</td>\n",
       "      <td>2</td>\n",
       "      <td>0</td>\n",
       "      <td>0</td>\n",
       "      <td>0</td>\n",
       "    </tr>\n",
       "    <tr>\n",
       "      <th>Grains/Cereals</th>\n",
       "      <td>1</td>\n",
       "      <td>0</td>\n",
       "      <td>0</td>\n",
       "      <td>0</td>\n",
       "      <td>0</td>\n",
       "      <td>0</td>\n",
       "      <td>1</td>\n",
       "      <td>2</td>\n",
       "      <td>0</td>\n",
       "      <td>0</td>\n",
       "      <td>0</td>\n",
       "      <td>1</td>\n",
       "      <td>0</td>\n",
       "      <td>2</td>\n",
       "      <td>0</td>\n",
       "      <td>0</td>\n",
       "    </tr>\n",
       "    <tr>\n",
       "      <th>Meat/Poultry</th>\n",
       "      <td>2</td>\n",
       "      <td>0</td>\n",
       "      <td>2</td>\n",
       "      <td>0</td>\n",
       "      <td>0</td>\n",
       "      <td>0</td>\n",
       "      <td>1</td>\n",
       "      <td>0</td>\n",
       "      <td>1</td>\n",
       "      <td>0</td>\n",
       "      <td>0</td>\n",
       "      <td>0</td>\n",
       "      <td>0</td>\n",
       "      <td>0</td>\n",
       "      <td>0</td>\n",
       "      <td>0</td>\n",
       "    </tr>\n",
       "    <tr>\n",
       "      <th>Produce</th>\n",
       "      <td>1</td>\n",
       "      <td>0</td>\n",
       "      <td>0</td>\n",
       "      <td>0</td>\n",
       "      <td>0</td>\n",
       "      <td>0</td>\n",
       "      <td>1</td>\n",
       "      <td>0</td>\n",
       "      <td>2</td>\n",
       "      <td>0</td>\n",
       "      <td>0</td>\n",
       "      <td>0</td>\n",
       "      <td>0</td>\n",
       "      <td>0</td>\n",
       "      <td>0</td>\n",
       "      <td>1</td>\n",
       "    </tr>\n",
       "    <tr>\n",
       "      <th>Seafood</th>\n",
       "      <td>1</td>\n",
       "      <td>0</td>\n",
       "      <td>0</td>\n",
       "      <td>2</td>\n",
       "      <td>0</td>\n",
       "      <td>1</td>\n",
       "      <td>1</td>\n",
       "      <td>0</td>\n",
       "      <td>2</td>\n",
       "      <td>0</td>\n",
       "      <td>0</td>\n",
       "      <td>0</td>\n",
       "      <td>0</td>\n",
       "      <td>3</td>\n",
       "      <td>0</td>\n",
       "      <td>2</td>\n",
       "    </tr>\n",
       "  </tbody>\n",
       "</table>\n",
       "</div>"
      ],
      "text/plain": [
       "country         Australia  Brazil  Canada  Denmark  Finland  France  Germany  \\\n",
       "category_name                                                                  \n",
       "Beverages               1       1       0        0        1       2        1   \n",
       "Condiments              1       0       1        0        0       0        1   \n",
       "Confections             1       0       1        0        2       0        3   \n",
       "Dairy Products          0       0       0        0        0       2        0   \n",
       "Grains/Cereals          1       0       0        0        0       0        1   \n",
       "Meat/Poultry            2       0       2        0        0       0        1   \n",
       "Produce                 1       0       0        0        0       0        1   \n",
       "Seafood                 1       0       0        2        0       1        1   \n",
       "\n",
       "country         Italy  Japan  Netherlands  Norway  Singapore  Spain  Sweden  \\\n",
       "category_name                                                                 \n",
       "Beverages           0      0            0       0          1      0       0   \n",
       "Condiments          0      1            0       0          1      0       0   \n",
       "Confections         0      0            2       0          0      0       0   \n",
       "Dairy Products      3      0            0       3          0      2       0   \n",
       "Grains/Cereals      2      0            0       0          1      0       2   \n",
       "Meat/Poultry        0      1            0       0          0      0       0   \n",
       "Produce             0      2            0       0          0      0       0   \n",
       "Seafood             0      2            0       0          0      0       3   \n",
       "\n",
       "country         UK  USA  \n",
       "category_name            \n",
       "Beverages        2    3  \n",
       "Condiments       1    6  \n",
       "Confections      4    0  \n",
       "Dairy Products   0    0  \n",
       "Grains/Cereals   0    0  \n",
       "Meat/Poultry     0    0  \n",
       "Produce          0    1  \n",
       "Seafood          0    2  "
      ]
     },
     "execution_count": 18,
     "metadata": {},
     "output_type": "execute_result"
    }
   ],
   "source": [
    "pd.crosstab(nw_df_transformed_3['category_name'], nw_df_transformed_3['country'])"
   ]
  },
  {
   "cell_type": "markdown",
   "id": "1d4d3655-6db2-4739-b1f8-080d3a8e7f1a",
   "metadata": {},
   "source": [
    "---"
   ]
  },
  {
   "cell_type": "markdown",
   "id": "fddc65cd-4604-4ed3-95f3-74fff1000587",
   "metadata": {},
   "source": [
    "### 10. Create a pivot table with average unit_price by category."
   ]
  },
  {
   "cell_type": "code",
   "execution_count": 19,
   "id": "c88b9599-1fe0-4795-a71d-b8588148d449",
   "metadata": {},
   "outputs": [
    {
     "data": {
      "text/html": [
       "<div>\n",
       "<style scoped>\n",
       "    .dataframe tbody tr th:only-of-type {\n",
       "        vertical-align: middle;\n",
       "    }\n",
       "\n",
       "    .dataframe tbody tr th {\n",
       "        vertical-align: top;\n",
       "    }\n",
       "\n",
       "    .dataframe thead th {\n",
       "        text-align: right;\n",
       "    }\n",
       "</style>\n",
       "<table border=\"1\" class=\"dataframe\">\n",
       "  <thead>\n",
       "    <tr style=\"text-align: right;\">\n",
       "      <th></th>\n",
       "      <th>unit_price</th>\n",
       "    </tr>\n",
       "    <tr>\n",
       "      <th>category_name</th>\n",
       "      <th></th>\n",
       "    </tr>\n",
       "  </thead>\n",
       "  <tbody>\n",
       "    <tr>\n",
       "      <th>Beverages</th>\n",
       "      <td>37.979167</td>\n",
       "    </tr>\n",
       "    <tr>\n",
       "      <th>Condiments</th>\n",
       "      <td>22.854167</td>\n",
       "    </tr>\n",
       "    <tr>\n",
       "      <th>Confections</th>\n",
       "      <td>25.160000</td>\n",
       "    </tr>\n",
       "    <tr>\n",
       "      <th>Dairy Products</th>\n",
       "      <td>28.730000</td>\n",
       "    </tr>\n",
       "    <tr>\n",
       "      <th>Grains/Cereals</th>\n",
       "      <td>20.250000</td>\n",
       "    </tr>\n",
       "    <tr>\n",
       "      <th>Meat/Poultry</th>\n",
       "      <td>54.006667</td>\n",
       "    </tr>\n",
       "    <tr>\n",
       "      <th>Produce</th>\n",
       "      <td>32.370000</td>\n",
       "    </tr>\n",
       "    <tr>\n",
       "      <th>Seafood</th>\n",
       "      <td>20.682500</td>\n",
       "    </tr>\n",
       "  </tbody>\n",
       "</table>\n",
       "</div>"
      ],
      "text/plain": [
       "                unit_price\n",
       "category_name             \n",
       "Beverages        37.979167\n",
       "Condiments       22.854167\n",
       "Confections      25.160000\n",
       "Dairy Products   28.730000\n",
       "Grains/Cereals   20.250000\n",
       "Meat/Poultry     54.006667\n",
       "Produce          32.370000\n",
       "Seafood          20.682500"
      ]
     },
     "execution_count": 19,
     "metadata": {},
     "output_type": "execute_result"
    }
   ],
   "source": [
    "# Default aggregate function for the pivot_table method is mean\n",
    "nw_df_transformed_3.pivot_table('unit_price', index = 'category_name')"
   ]
  },
  {
   "cell_type": "markdown",
   "id": "894a9890-3759-40c2-803b-7159928927ea",
   "metadata": {},
   "source": [
    "---"
   ]
  },
  {
   "cell_type": "markdown",
   "id": "97cfbe32-6d05-4812-9773-bac65ef02bc3",
   "metadata": {},
   "source": [
    "### 11. Create a pivot table with average reorder_level  by category (rows) and country (columns)."
   ]
  },
  {
   "cell_type": "code",
   "execution_count": 20,
   "id": "774ff9a6-bc27-4e6b-a93d-24ac616c40fb",
   "metadata": {},
   "outputs": [
    {
     "data": {
      "text/html": [
       "<div>\n",
       "<style scoped>\n",
       "    .dataframe tbody tr th:only-of-type {\n",
       "        vertical-align: middle;\n",
       "    }\n",
       "\n",
       "    .dataframe tbody tr th {\n",
       "        vertical-align: top;\n",
       "    }\n",
       "\n",
       "    .dataframe thead th {\n",
       "        text-align: right;\n",
       "    }\n",
       "</style>\n",
       "<table border=\"1\" class=\"dataframe\">\n",
       "  <thead>\n",
       "    <tr style=\"text-align: right;\">\n",
       "      <th>country</th>\n",
       "      <th>Australia</th>\n",
       "      <th>Brazil</th>\n",
       "      <th>Canada</th>\n",
       "      <th>Denmark</th>\n",
       "      <th>Finland</th>\n",
       "      <th>France</th>\n",
       "      <th>Germany</th>\n",
       "      <th>Italy</th>\n",
       "      <th>Japan</th>\n",
       "      <th>Netherlands</th>\n",
       "      <th>Norway</th>\n",
       "      <th>Singapore</th>\n",
       "      <th>Spain</th>\n",
       "      <th>Sweden</th>\n",
       "      <th>UK</th>\n",
       "      <th>USA</th>\n",
       "    </tr>\n",
       "    <tr>\n",
       "      <th>category_name</th>\n",
       "      <th></th>\n",
       "      <th></th>\n",
       "      <th></th>\n",
       "      <th></th>\n",
       "      <th></th>\n",
       "      <th></th>\n",
       "      <th></th>\n",
       "      <th></th>\n",
       "      <th></th>\n",
       "      <th></th>\n",
       "      <th></th>\n",
       "      <th></th>\n",
       "      <th></th>\n",
       "      <th></th>\n",
       "      <th></th>\n",
       "      <th></th>\n",
       "    </tr>\n",
       "  </thead>\n",
       "  <tbody>\n",
       "    <tr>\n",
       "      <th>Beverages</th>\n",
       "      <td>30.0</td>\n",
       "      <td>0.0</td>\n",
       "      <td>NaN</td>\n",
       "      <td>NaN</td>\n",
       "      <td>20.0</td>\n",
       "      <td>10.0</td>\n",
       "      <td>25.0</td>\n",
       "      <td>NaN</td>\n",
       "      <td>NaN</td>\n",
       "      <td>NaN</td>\n",
       "      <td>NaN</td>\n",
       "      <td>25.0</td>\n",
       "      <td>NaN</td>\n",
       "      <td>NaN</td>\n",
       "      <td>17.50</td>\n",
       "      <td>13.333333</td>\n",
       "    </tr>\n",
       "    <tr>\n",
       "      <th>Condiments</th>\n",
       "      <td>5.0</td>\n",
       "      <td>NaN</td>\n",
       "      <td>25.0</td>\n",
       "      <td>NaN</td>\n",
       "      <td>NaN</td>\n",
       "      <td>NaN</td>\n",
       "      <td>15.0</td>\n",
       "      <td>NaN</td>\n",
       "      <td>5.0</td>\n",
       "      <td>NaN</td>\n",
       "      <td>NaN</td>\n",
       "      <td>15.0</td>\n",
       "      <td>NaN</td>\n",
       "      <td>NaN</td>\n",
       "      <td>25.00</td>\n",
       "      <td>3.333333</td>\n",
       "    </tr>\n",
       "    <tr>\n",
       "      <th>Confections</th>\n",
       "      <td>10.0</td>\n",
       "      <td>NaN</td>\n",
       "      <td>0.0</td>\n",
       "      <td>NaN</td>\n",
       "      <td>22.5</td>\n",
       "      <td>NaN</td>\n",
       "      <td>20.0</td>\n",
       "      <td>NaN</td>\n",
       "      <td>NaN</td>\n",
       "      <td>12.5</td>\n",
       "      <td>NaN</td>\n",
       "      <td>NaN</td>\n",
       "      <td>NaN</td>\n",
       "      <td>NaN</td>\n",
       "      <td>6.25</td>\n",
       "      <td>NaN</td>\n",
       "    </tr>\n",
       "    <tr>\n",
       "      <th>Dairy Products</th>\n",
       "      <td>NaN</td>\n",
       "      <td>NaN</td>\n",
       "      <td>NaN</td>\n",
       "      <td>NaN</td>\n",
       "      <td>NaN</td>\n",
       "      <td>0.0</td>\n",
       "      <td>NaN</td>\n",
       "      <td>15.0</td>\n",
       "      <td>NaN</td>\n",
       "      <td>NaN</td>\n",
       "      <td>11.666667</td>\n",
       "      <td>NaN</td>\n",
       "      <td>15.0</td>\n",
       "      <td>NaN</td>\n",
       "      <td>NaN</td>\n",
       "      <td>NaN</td>\n",
       "    </tr>\n",
       "    <tr>\n",
       "      <th>Grains/Cereals</th>\n",
       "      <td>25.0</td>\n",
       "      <td>NaN</td>\n",
       "      <td>NaN</td>\n",
       "      <td>NaN</td>\n",
       "      <td>NaN</td>\n",
       "      <td>NaN</td>\n",
       "      <td>30.0</td>\n",
       "      <td>25.0</td>\n",
       "      <td>NaN</td>\n",
       "      <td>NaN</td>\n",
       "      <td>NaN</td>\n",
       "      <td>0.0</td>\n",
       "      <td>NaN</td>\n",
       "      <td>25.000000</td>\n",
       "      <td>NaN</td>\n",
       "      <td>NaN</td>\n",
       "    </tr>\n",
       "    <tr>\n",
       "      <th>Meat/Poultry</th>\n",
       "      <td>0.0</td>\n",
       "      <td>NaN</td>\n",
       "      <td>15.0</td>\n",
       "      <td>NaN</td>\n",
       "      <td>NaN</td>\n",
       "      <td>NaN</td>\n",
       "      <td>0.0</td>\n",
       "      <td>NaN</td>\n",
       "      <td>0.0</td>\n",
       "      <td>NaN</td>\n",
       "      <td>NaN</td>\n",
       "      <td>NaN</td>\n",
       "      <td>NaN</td>\n",
       "      <td>NaN</td>\n",
       "      <td>NaN</td>\n",
       "      <td>NaN</td>\n",
       "    </tr>\n",
       "    <tr>\n",
       "      <th>Produce</th>\n",
       "      <td>10.0</td>\n",
       "      <td>NaN</td>\n",
       "      <td>NaN</td>\n",
       "      <td>NaN</td>\n",
       "      <td>NaN</td>\n",
       "      <td>NaN</td>\n",
       "      <td>0.0</td>\n",
       "      <td>NaN</td>\n",
       "      <td>2.5</td>\n",
       "      <td>NaN</td>\n",
       "      <td>NaN</td>\n",
       "      <td>NaN</td>\n",
       "      <td>NaN</td>\n",
       "      <td>NaN</td>\n",
       "      <td>NaN</td>\n",
       "      <td>10.000000</td>\n",
       "    </tr>\n",
       "    <tr>\n",
       "      <th>Seafood</th>\n",
       "      <td>0.0</td>\n",
       "      <td>NaN</td>\n",
       "      <td>NaN</td>\n",
       "      <td>7.5</td>\n",
       "      <td>NaN</td>\n",
       "      <td>20.0</td>\n",
       "      <td>15.0</td>\n",
       "      <td>NaN</td>\n",
       "      <td>2.5</td>\n",
       "      <td>NaN</td>\n",
       "      <td>NaN</td>\n",
       "      <td>NaN</td>\n",
       "      <td>NaN</td>\n",
       "      <td>16.666667</td>\n",
       "      <td>NaN</td>\n",
       "      <td>20.000000</td>\n",
       "    </tr>\n",
       "  </tbody>\n",
       "</table>\n",
       "</div>"
      ],
      "text/plain": [
       "country         Australia  Brazil  Canada  Denmark  Finland  France  Germany  \\\n",
       "category_name                                                                  \n",
       "Beverages            30.0     0.0     NaN      NaN     20.0    10.0     25.0   \n",
       "Condiments            5.0     NaN    25.0      NaN      NaN     NaN     15.0   \n",
       "Confections          10.0     NaN     0.0      NaN     22.5     NaN     20.0   \n",
       "Dairy Products        NaN     NaN     NaN      NaN      NaN     0.0      NaN   \n",
       "Grains/Cereals       25.0     NaN     NaN      NaN      NaN     NaN     30.0   \n",
       "Meat/Poultry          0.0     NaN    15.0      NaN      NaN     NaN      0.0   \n",
       "Produce              10.0     NaN     NaN      NaN      NaN     NaN      0.0   \n",
       "Seafood               0.0     NaN     NaN      7.5      NaN    20.0     15.0   \n",
       "\n",
       "country         Italy  Japan  Netherlands     Norway  Singapore  Spain  \\\n",
       "category_name                                                            \n",
       "Beverages         NaN    NaN          NaN        NaN       25.0    NaN   \n",
       "Condiments        NaN    5.0          NaN        NaN       15.0    NaN   \n",
       "Confections       NaN    NaN         12.5        NaN        NaN    NaN   \n",
       "Dairy Products   15.0    NaN          NaN  11.666667        NaN   15.0   \n",
       "Grains/Cereals   25.0    NaN          NaN        NaN        0.0    NaN   \n",
       "Meat/Poultry      NaN    0.0          NaN        NaN        NaN    NaN   \n",
       "Produce           NaN    2.5          NaN        NaN        NaN    NaN   \n",
       "Seafood           NaN    2.5          NaN        NaN        NaN    NaN   \n",
       "\n",
       "country            Sweden     UK        USA  \n",
       "category_name                                \n",
       "Beverages             NaN  17.50  13.333333  \n",
       "Condiments            NaN  25.00   3.333333  \n",
       "Confections           NaN   6.25        NaN  \n",
       "Dairy Products        NaN    NaN        NaN  \n",
       "Grains/Cereals  25.000000    NaN        NaN  \n",
       "Meat/Poultry          NaN    NaN        NaN  \n",
       "Produce               NaN    NaN  10.000000  \n",
       "Seafood         16.666667    NaN  20.000000  "
      ]
     },
     "execution_count": 20,
     "metadata": {},
     "output_type": "execute_result"
    }
   ],
   "source": [
    "# Default aggregate function for the pivot_table method is mean\n",
    "nw_df_transformed_3.pivot_table('reorder_level', index = 'category_name', columns = 'country')"
   ]
  },
  {
   "cell_type": "markdown",
   "id": "61405886-40b9-41f2-a960-7b582e178524",
   "metadata": {},
   "source": [
    "---"
   ]
  },
  {
   "cell_type": "markdown",
   "id": "ccee7448-a635-44d1-ab96-b80c25f0deaa",
   "metadata": {},
   "source": [
    "### 12. Create a groupby table with sum of discontinued products by company name."
   ]
  },
  {
   "cell_type": "code",
   "execution_count": 21,
   "id": "a54fcedd-d6fe-46da-8349-080192c8dcc9",
   "metadata": {},
   "outputs": [
    {
     "data": {
      "text/plain": [
       "company_name\n",
       "Aux joyeux eccl√©siastiques               0\n",
       "Bigfoot Breweries                         0\n",
       "Cooperativa de Quesos 'Las Cabras'        0\n",
       "Escargots Nouveaux                        0\n",
       "Exotic Liquids                            1\n",
       "Formaggi Fortini s.r.l.                   0\n",
       "For√™ts d'√©rables                        0\n",
       "G'day, Mate                               1\n",
       "Gai p√¢turage                             0\n",
       "Grandma Kelly's Homestead                 0\n",
       "Heli S√º√üwaren GmbH & Co. KG             0\n",
       "Karkki Oy                                 0\n",
       "Leka Trading                              1\n",
       "Lyngbysild                                0\n",
       "Ma Maison                                 0\n",
       "Mayumi's                                  0\n",
       "New England Seafood Cannery               0\n",
       "New Orleans Cajun Delights                1\n",
       "Nord-Ost-Fisch Handelsgesellschaft mbH    0\n",
       "Norske Meierier                           0\n",
       "PB Kn√§ckebr√∂d AB                        0\n",
       "Pasta Buttini s.r.l.                      0\n",
       "Pavlova, Ltd.                             1\n",
       "Plutzer Lebensmittelgro√üm√§rkte AG       2\n",
       "Refrescos Americanas LTDA                 1\n",
       "Specialty Biscuits, Ltd.                  1\n",
       "Svensk Sj√∂f√∂da AB                       0\n",
       "Tokyo Traders                             1\n",
       "Zaanse Snoepfabriek                       0\n",
       "Name: discontinued, dtype: int64"
      ]
     },
     "execution_count": 21,
     "metadata": {},
     "output_type": "execute_result"
    }
   ],
   "source": [
    "# Declare groupby dataframe company_groups where groups are determined by company_name\n",
    "company_groups = nw_df_transformed_3.groupby('company_name')\n",
    "\n",
    "# Sum the values in discontinued by groups\n",
    "company_groups['discontinued'].sum()"
   ]
  },
  {
   "cell_type": "markdown",
   "id": "9e32f2aa-16e7-4b50-9775-38ed3c95e464",
   "metadata": {},
   "source": [
    "---"
   ]
  },
  {
   "cell_type": "markdown",
   "id": "9e4aee05-b745-4f34-8cc0-f7ce196a21c9",
   "metadata": {},
   "source": [
    "### 13. Create a groupby table with maximum unit_price by country and category (both in rows)."
   ]
  },
  {
   "cell_type": "code",
   "execution_count": 22,
   "id": "ebdd3237-8ea6-4deb-bc5c-f04c02273477",
   "metadata": {},
   "outputs": [
    {
     "data": {
      "text/plain": [
       "country      category_name \n",
       "Australia    Beverages          15.00\n",
       "             Condiments         43.90\n",
       "             Confections        17.45\n",
       "             Grains/Cereals      7.00\n",
       "             Meat/Poultry       39.00\n",
       "             Produce            53.00\n",
       "             Seafood            62.50\n",
       "Brazil       Beverages           4.50\n",
       "Canada       Condiments         28.50\n",
       "             Confections        49.30\n",
       "             Meat/Poultry       24.00\n",
       "Denmark      Seafood            12.00\n",
       "Finland      Beverages          18.00\n",
       "             Confections        20.00\n",
       "France       Beverages         263.50\n",
       "             Dairy Products     55.00\n",
       "             Seafood            13.25\n",
       "Germany      Beverages           7.75\n",
       "             Condiments         13.00\n",
       "             Confections        43.90\n",
       "             Grains/Cereals     33.25\n",
       "             Meat/Poultry      123.79\n",
       "             Produce            45.60\n",
       "             Seafood            25.89\n",
       "Italy        Dairy Products     34.80\n",
       "             Grains/Cereals     38.00\n",
       "Japan        Condiments         13.00\n",
       "             Meat/Poultry       97.00\n",
       "             Produce            23.25\n",
       "             Seafood            31.00\n",
       "Netherlands  Confections        12.75\n",
       "Norway       Dairy Products     36.00\n",
       "Singapore    Beverages          46.00\n",
       "             Condiments         19.45\n",
       "             Grains/Cereals     14.00\n",
       "Spain        Dairy Products     38.00\n",
       "Sweden       Grains/Cereals     21.00\n",
       "             Seafood            26.00\n",
       "UK           Beverages          19.00\n",
       "             Condiments         10.00\n",
       "             Confections        81.00\n",
       "USA          Beverages          18.00\n",
       "             Condiments         40.00\n",
       "             Produce            30.00\n",
       "             Seafood            18.40\n",
       "Name: unit_price, dtype: float64"
      ]
     },
     "execution_count": 22,
     "metadata": {},
     "output_type": "execute_result"
    }
   ],
   "source": [
    "# Declare groupby dataframe country_category_groups\n",
    "country_category_groups = nw_df_transformed_3.groupby(['country', 'category_name'])\n",
    "\n",
    "# Find the max unit_price by groups\n",
    "country_category_groups['unit_price'].max()"
   ]
  },
  {
   "cell_type": "markdown",
   "id": "ed825dd4-aab5-4b0e-9ad5-e3ee58f5874d",
   "metadata": {},
   "source": [
    "---"
   ]
  }
 ],
 "metadata": {
  "kernelspec": {
   "display_name": "Python 3 (ipykernel)",
   "language": "python",
   "name": "python3"
  },
  "language_info": {
   "codemirror_mode": {
    "name": "ipython",
    "version": 3
   },
   "file_extension": ".py",
   "mimetype": "text/x-python",
   "name": "python",
   "nbconvert_exporter": "python",
   "pygments_lexer": "ipython3",
   "version": "3.10.9"
  }
 },
 "nbformat": 4,
 "nbformat_minor": 5
}
