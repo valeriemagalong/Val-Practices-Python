{
 "cells": [
  {
   "cell_type": "markdown",
   "id": "e470c600-e986-4bb9-8e5b-2a6dcafa7812",
   "metadata": {},
   "source": [
    "# Visualizing Data with Seaborn"
   ]
  },
  {
   "cell_type": "markdown",
   "id": "6b279bde-860f-408a-a0f3-8726293c7269",
   "metadata": {},
   "source": [
    "## Penguins Data\n",
    "---"
   ]
  },
  {
   "cell_type": "markdown",
   "id": "66057076-c7d4-443e-a0a1-177dddaa945e",
   "metadata": {},
   "source": [
    "### 1. Create a scatter plot that includes the following parameters:\n",
    "* bill_length_mm on the x-axis\n",
    "* bill_depth_mm on the y-axis\n",
    "* use hue to indicate species"
   ]
  },
  {
   "cell_type": "code",
   "execution_count": null,
   "id": "13eb100b-9e86-4b18-9383-ef99eb0f9dae",
   "metadata": {},
   "outputs": [],
   "source": []
  },
  {
   "cell_type": "markdown",
   "id": "8c76c1e7-d5d9-414f-a188-576ac5386c11",
   "metadata": {},
   "source": [
    "### 2. Create a kde plot that includes the following parameters:\n",
    "* display the distribution of body_mass_g \n",
    "* use hue to indica"
   ]
  },
  {
   "cell_type": "code",
   "execution_count": null,
   "id": "a95d2bcd-77ee-49cb-8562-98bede4b8116",
   "metadata": {},
   "outputs": [],
   "source": []
  },
  {
   "cell_type": "markdown",
   "id": "8e95421b-ed18-4b51-aab3-5de587e8c66f",
   "metadata": {},
   "source": [
    "### 3. Create a correlation matrix for the dataframe.  Use a heatmap to show the strength of the correlations."
   ]
  },
  {
   "cell_type": "code",
   "execution_count": null,
   "id": "af4bafc6-59bb-4575-b8c5-a79676f8dc94",
   "metadata": {},
   "outputs": [],
   "source": []
  },
  {
   "cell_type": "markdown",
   "id": "0263ef60-c045-4157-9fb3-c56ea0ee5a2f",
   "metadata": {},
   "source": [
    "### 4. Create a pairplot for the DataFrame.\n",
    "* What (if any) variables/columns are positively correlated? \n",
    "* What (if any) variables/columns are negatively correlated? \n",
    "* What (if any) variables/columns are not correlated at all?  "
   ]
  },
  {
   "cell_type": "code",
   "execution_count": null,
   "id": "51cf71b7-600e-45ba-a809-5212d208a6f3",
   "metadata": {},
   "outputs": [],
   "source": []
  },
  {
   "cell_type": "markdown",
   "id": "ee5eaa5c-ad3e-4f13-84df-0fac677a8ece",
   "metadata": {},
   "source": [
    "### 5. Create a swarm plot with the following features:\n",
    "* 'island' on the x-axis.\n",
    "* 'flipper length' on the y-axis.\n",
    "* hue to indicate 'species'."
   ]
  },
  {
   "cell_type": "code",
   "execution_count": null,
   "id": "8fe3dae5-4cae-43f9-b6a3-f3653ca4fa66",
   "metadata": {},
   "outputs": [],
   "source": []
  }
 ],
 "metadata": {
  "kernelspec": {
   "display_name": "Python 3 (ipykernel)",
   "language": "python",
   "name": "python3"
  },
  "language_info": {
   "codemirror_mode": {
    "name": "ipython",
    "version": 3
   },
   "file_extension": ".py",
   "mimetype": "text/x-python",
   "name": "python",
   "nbconvert_exporter": "python",
   "pygments_lexer": "ipython3",
   "version": "3.10.9"
  }
 },
 "nbformat": 4,
 "nbformat_minor": 5
}
